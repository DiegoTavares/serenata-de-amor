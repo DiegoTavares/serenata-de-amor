{
 "cells": [
  {
   "cell_type": "markdown",
   "metadata": {},
   "source": [
    "# Traveled speeds\n",
    "\n",
    "The Quota for Exercise of Parliamentary activity says that meal expenses can be reimbursed just for the politician, excluding guests and assistants. Creating a feature with information of traveled speed from last meal can help us detect anomalies compared to other expenses.\n",
    "\n",
    "* Learn how to calculate distance between two coordinates.\n",
    "* Filter \"Congressperson meal\" expenses.\n",
    "* Order by occurence.\n",
    "* Merge `current-year.xz` datasets with `companies.xz`, so we have latitude/longitude for each expense.\n",
    "* Remove expenses with less than 12 hours of distance between each other.\n",
    "\n",
    "\n",
    "* Filter specific congressperson.\n",
    "\n",
    "..."
   ]
  },
  {
   "cell_type": "code",
   "execution_count": 1,
   "metadata": {
    "collapsed": false
   },
   "outputs": [],
   "source": [
    "%matplotlib inline\n",
    "import matplotlib.pyplot as plt\n",
    "import numpy as np\n",
    "import pandas as pd\n",
    "import seaborn as sns\n",
    "\n",
    "def read_csv(name='last-year'):\n",
    "    data = pd.read_csv('../data/2016-08-08-%s.xz' % name,\n",
    "                       parse_dates=[16],\n",
    "                       dtype={'document_id': np.str,\n",
    "                              'congressperson_id': np.str,\n",
    "                              'congressperson_document': np.str,\n",
    "                              'term_id': np.str,\n",
    "                              'cnpj_cpf': np.str,\n",
    "                              'reimbursement_number': np.str})\n",
    "    congresspeople = pd.read_excel('~/Downloads/deputado.xls')\n",
    "    is_individual_document = data['congressperson_name'].isin(congresspeople['Nome Parlamentar'])\n",
    "    is_meal_document = data['subquota_description'] == 'Congressperson meal'\n",
    "    return data[is_individual_document & is_meal_document]\n",
    "\n",
    "def document_url(record):\n",
    "    return 'http://www.camara.gov.br/cota-parlamentar/documentos/publ/%s/%s/%s.pdf' % \\\n",
    "        (record['applicant_id'], record['year'], record['document_id'])\n",
    "\n",
    "\n",
    "datasets = [read_csv(name)\n",
    "            for name in ['current-year', 'last-year', 'previous-years']]\n",
    "data = pd.concat(datasets)\n",
    "del(datasets)\n",
    "data['issue_date'] = pd.to_datetime(data['issue_date'])\n",
    "data = data.sort_values('issue_date')"
   ]
  },
  {
   "cell_type": "code",
   "execution_count": 2,
   "metadata": {
    "collapsed": false
   },
   "outputs": [
    {
     "data": {
      "text/plain": [
       "433"
      ]
     },
     "execution_count": 2,
     "metadata": {},
     "output_type": "execute_result"
    }
   ],
   "source": [
    "len(data['congressperson_name'].unique())"
   ]
  },
  {
   "cell_type": "code",
   "execution_count": 3,
   "metadata": {
    "collapsed": false
   },
   "outputs": [
    {
     "data": {
      "text/html": [
       "<div>\n",
       "<table border=\"1\" class=\"dataframe\">\n",
       "  <thead>\n",
       "    <tr style=\"text-align: right;\">\n",
       "      <th></th>\n",
       "      <th>congressperson_name</th>\n",
       "      <th>net_value</th>\n",
       "    </tr>\n",
       "  </thead>\n",
       "  <tbody>\n",
       "    <tr>\n",
       "      <th>365</th>\n",
       "      <td>ROGÉRIO PENINHA MENDONÇA</td>\n",
       "      <td>172310.13</td>\n",
       "    </tr>\n",
       "    <tr>\n",
       "      <th>358</th>\n",
       "      <td>ROBERTO FREIRE</td>\n",
       "      <td>165139.98</td>\n",
       "    </tr>\n",
       "    <tr>\n",
       "      <th>151</th>\n",
       "      <td>FRANCISCO FLORIANO</td>\n",
       "      <td>127388.00</td>\n",
       "    </tr>\n",
       "    <tr>\n",
       "      <th>410</th>\n",
       "      <td>VANDERLEI MACRIS</td>\n",
       "      <td>119028.58</td>\n",
       "    </tr>\n",
       "    <tr>\n",
       "      <th>34</th>\n",
       "      <td>ANTONIO BULHÕES</td>\n",
       "      <td>104838.29</td>\n",
       "    </tr>\n",
       "    <tr>\n",
       "      <th>373</th>\n",
       "      <td>RUBENS BUENO</td>\n",
       "      <td>100651.47</td>\n",
       "    </tr>\n",
       "    <tr>\n",
       "      <th>428</th>\n",
       "      <td>ZECA DIRCEU</td>\n",
       "      <td>95324.03</td>\n",
       "    </tr>\n",
       "    <tr>\n",
       "      <th>394</th>\n",
       "      <td>TAKAYAMA</td>\n",
       "      <td>82240.71</td>\n",
       "    </tr>\n",
       "    <tr>\n",
       "      <th>77</th>\n",
       "      <td>CELSO MALDANER</td>\n",
       "      <td>76458.86</td>\n",
       "    </tr>\n",
       "    <tr>\n",
       "      <th>206</th>\n",
       "      <td>JOSÉ CARLOS ARAÚJO</td>\n",
       "      <td>75198.50</td>\n",
       "    </tr>\n",
       "  </tbody>\n",
       "</table>\n",
       "</div>"
      ],
      "text/plain": [
       "          congressperson_name  net_value\n",
       "365  ROGÉRIO PENINHA MENDONÇA  172310.13\n",
       "358            ROBERTO FREIRE  165139.98\n",
       "151        FRANCISCO FLORIANO  127388.00\n",
       "410          VANDERLEI MACRIS  119028.58\n",
       "34            ANTONIO BULHÕES  104838.29\n",
       "373              RUBENS BUENO  100651.47\n",
       "428               ZECA DIRCEU   95324.03\n",
       "394                  TAKAYAMA   82240.71\n",
       "77             CELSO MALDANER   76458.86\n",
       "206        JOSÉ CARLOS ARAÚJO   75198.50"
      ]
     },
     "execution_count": 3,
     "metadata": {},
     "output_type": "execute_result"
    }
   ],
   "source": [
    "data.groupby('congressperson_name', as_index=False). \\\n",
    "    agg({'net_value': np.nansum}). \\\n",
    "    sort_values('net_value', ascending=False). \\\n",
    "    head(10)\n",
    "# congressperson_list = data. \\\n",
    "#     drop_duplicates('applicant_id', keep='first')\n",
    "# ranking = pd.merge(data,\n",
    "#                    congressperson_list,\n",
    "#                    how='left',\n",
    "#                    on='applicant_id')\n",
    "# ranking.head(10)"
   ]
  },
  {
   "cell_type": "code",
   "execution_count": 4,
   "metadata": {
    "collapsed": false
   },
   "outputs": [
    {
     "data": {
      "text/plain": [
       "document_id                                                             5733819\n",
       "congressperson_name                                        ADELMO CARNEIRO LEÃO\n",
       "congressperson_id                                                        178890\n",
       "congressperson_document                                                     221\n",
       "term                                                                       2015\n",
       "state                                                                        MG\n",
       "party                                                                        PT\n",
       "term_id                                                                      55\n",
       "subquota_number                                                              13\n",
       "subquota_description                                        Congressperson meal\n",
       "subquota_group_id                                                             0\n",
       "subquota_group_description                                                  NaN\n",
       "supplier                      ASSOCIAÇÃO DOS SERVIDORES DA CÂMARA DOS DEPUTADOS\n",
       "cnpj_cpf                                                         00679365000194\n",
       "document_number                                                          022732\n",
       "document_type                                                                 0\n",
       "issue_date                                                  2015-07-08 00:00:00\n",
       "document_value                                                            19.57\n",
       "remark_value                                                                  0\n",
       "net_value                                                                 19.57\n",
       "month                                                                         7\n",
       "year                                                                       2015\n",
       "installment                                                                   0\n",
       "passenger                                                                   NaN\n",
       "leg_of_the_trip                                                             NaN\n",
       "batch_number                                                            1208597\n",
       "reimbursement_number                                                       5093\n",
       "reimbursement_value                                                         NaN\n",
       "applicant_id                                                               2906\n",
       "Name: 1687, dtype: object"
      ]
     },
     "execution_count": 4,
     "metadata": {},
     "output_type": "execute_result"
    }
   ],
   "source": [
    "document = data.sample(random_state=0).iloc[0]\n",
    "document"
   ]
  },
  {
   "cell_type": "code",
   "execution_count": 5,
   "metadata": {
    "collapsed": false
   },
   "outputs": [
    {
     "name": "stdout",
     "output_type": "stream",
     "text": [
      "http://www.camara.gov.br/cota-parlamentar/documentos/publ/2906/2015/5733819.pdf\n"
     ]
    }
   ],
   "source": [
    "print(document_url(document))"
   ]
  },
  {
   "cell_type": "code",
   "execution_count": 6,
   "metadata": {
    "collapsed": true
   },
   "outputs": [],
   "source": [
    "# ID | speed_from_previous | speed_from_next\n",
    "# ------------------------------------------\n",
    "# B  | None                | \n",
    "# A  | \n",
    "# C  | "
   ]
  },
  {
   "cell_type": "code",
   "execution_count": 7,
   "metadata": {
    "collapsed": false,
    "scrolled": true
   },
   "outputs": [
    {
     "data": {
      "text/html": [
       "<div>\n",
       "<table border=\"1\" class=\"dataframe\">\n",
       "  <thead>\n",
       "    <tr style=\"text-align: right;\">\n",
       "      <th></th>\n",
       "      <th>congressperson_name</th>\n",
       "      <th>issue_date</th>\n",
       "      <th>len</th>\n",
       "      <th>sum</th>\n",
       "      <th>nanmean</th>\n",
       "    </tr>\n",
       "  </thead>\n",
       "  <tbody>\n",
       "    <tr>\n",
       "      <th>36838</th>\n",
       "      <td>JOÃO CASTELO</td>\n",
       "      <td>2015-11-10 00:00:00</td>\n",
       "      <td>1.0</td>\n",
       "      <td>3041.80</td>\n",
       "      <td>3041.800</td>\n",
       "    </tr>\n",
       "    <tr>\n",
       "      <th>36828</th>\n",
       "      <td>JOÃO CASTELO</td>\n",
       "      <td>2015-09-16 00:00:00</td>\n",
       "      <td>1.0</td>\n",
       "      <td>3003.64</td>\n",
       "      <td>3003.640</td>\n",
       "    </tr>\n",
       "    <tr>\n",
       "      <th>10860</th>\n",
       "      <td>CARLOS BEZERRA</td>\n",
       "      <td>2015-06-03 00:00:00</td>\n",
       "      <td>1.0</td>\n",
       "      <td>2395.80</td>\n",
       "      <td>2395.800</td>\n",
       "    </tr>\n",
       "    <tr>\n",
       "      <th>36850</th>\n",
       "      <td>JOÃO CASTELO</td>\n",
       "      <td>2016-06-03 00:00:00</td>\n",
       "      <td>1.0</td>\n",
       "      <td>2360.50</td>\n",
       "      <td>2360.500</td>\n",
       "    </tr>\n",
       "    <tr>\n",
       "      <th>36847</th>\n",
       "      <td>JOÃO CASTELO</td>\n",
       "      <td>2016-04-04 01:00:00</td>\n",
       "      <td>1.0</td>\n",
       "      <td>1944.00</td>\n",
       "      <td>1944.000</td>\n",
       "    </tr>\n",
       "    <tr>\n",
       "      <th>29434</th>\n",
       "      <td>IRAJÁ ABREU</td>\n",
       "      <td>2011-10-18 00:00:00</td>\n",
       "      <td>1.0</td>\n",
       "      <td>1940.52</td>\n",
       "      <td>1940.520</td>\n",
       "    </tr>\n",
       "    <tr>\n",
       "      <th>48665</th>\n",
       "      <td>MARQUINHO MENDES</td>\n",
       "      <td>2015-12-02 00:00:00</td>\n",
       "      <td>1.0</td>\n",
       "      <td>1887.60</td>\n",
       "      <td>1887.600</td>\n",
       "    </tr>\n",
       "    <tr>\n",
       "      <th>36841</th>\n",
       "      <td>JOÃO CASTELO</td>\n",
       "      <td>2016-02-01 00:00:00</td>\n",
       "      <td>1.0</td>\n",
       "      <td>1772.34</td>\n",
       "      <td>1772.340</td>\n",
       "    </tr>\n",
       "    <tr>\n",
       "      <th>25601</th>\n",
       "      <td>FÁBIO MITIDIERI</td>\n",
       "      <td>2015-06-10 00:00:00</td>\n",
       "      <td>1.0</td>\n",
       "      <td>1726.31</td>\n",
       "      <td>1726.310</td>\n",
       "    </tr>\n",
       "    <tr>\n",
       "      <th>29465</th>\n",
       "      <td>IRAJÁ ABREU</td>\n",
       "      <td>2012-05-26 00:00:00</td>\n",
       "      <td>1.0</td>\n",
       "      <td>1665.21</td>\n",
       "      <td>1665.210</td>\n",
       "    </tr>\n",
       "    <tr>\n",
       "      <th>26770</th>\n",
       "      <td>GERALDO RESENDE</td>\n",
       "      <td>2013-09-05 00:00:00</td>\n",
       "      <td>1.0</td>\n",
       "      <td>1640.00</td>\n",
       "      <td>1640.000</td>\n",
       "    </tr>\n",
       "    <tr>\n",
       "      <th>54096</th>\n",
       "      <td>PASTOR EURICO</td>\n",
       "      <td>2013-05-02 00:00:00</td>\n",
       "      <td>1.0</td>\n",
       "      <td>1622.50</td>\n",
       "      <td>1622.500</td>\n",
       "    </tr>\n",
       "    <tr>\n",
       "      <th>7468</th>\n",
       "      <td>ARNALDO JORDY</td>\n",
       "      <td>2011-11-07 00:00:00</td>\n",
       "      <td>1.0</td>\n",
       "      <td>1600.00</td>\n",
       "      <td>1600.000</td>\n",
       "    </tr>\n",
       "    <tr>\n",
       "      <th>9366</th>\n",
       "      <td>BETO MANSUR</td>\n",
       "      <td>2012-06-21 00:00:00</td>\n",
       "      <td>1.0</td>\n",
       "      <td>1540.00</td>\n",
       "      <td>1540.000</td>\n",
       "    </tr>\n",
       "    <tr>\n",
       "      <th>23155</th>\n",
       "      <td>EVANDRO ROMAN</td>\n",
       "      <td>2016-04-11 00:00:00</td>\n",
       "      <td>1.0</td>\n",
       "      <td>1530.00</td>\n",
       "      <td>1530.000</td>\n",
       "    </tr>\n",
       "    <tr>\n",
       "      <th>44231</th>\n",
       "      <td>MAJOR OLIMPIO</td>\n",
       "      <td>2015-09-08 00:00:00</td>\n",
       "      <td>1.0</td>\n",
       "      <td>1520.21</td>\n",
       "      <td>1520.210</td>\n",
       "    </tr>\n",
       "    <tr>\n",
       "      <th>20497</th>\n",
       "      <td>EDUARDO BARBOSA</td>\n",
       "      <td>2011-11-28 00:00:00</td>\n",
       "      <td>1.0</td>\n",
       "      <td>1500.00</td>\n",
       "      <td>1500.000</td>\n",
       "    </tr>\n",
       "    <tr>\n",
       "      <th>36853</th>\n",
       "      <td>JOÃO CASTELO</td>\n",
       "      <td>2016-07-11 00:00:00</td>\n",
       "      <td>1.0</td>\n",
       "      <td>1499.00</td>\n",
       "      <td>1499.000</td>\n",
       "    </tr>\n",
       "    <tr>\n",
       "      <th>27676</th>\n",
       "      <td>GONZAGA PATRIOTA</td>\n",
       "      <td>2011-02-13 00:00:00</td>\n",
       "      <td>1.0</td>\n",
       "      <td>1493.00</td>\n",
       "      <td>1493.000</td>\n",
       "    </tr>\n",
       "    <tr>\n",
       "      <th>70281</th>\n",
       "      <td>TEREZA CRISTINA</td>\n",
       "      <td>2015-02-19 00:00:00</td>\n",
       "      <td>1.0</td>\n",
       "      <td>1488.63</td>\n",
       "      <td>1488.630</td>\n",
       "    </tr>\n",
       "    <tr>\n",
       "      <th>54105</th>\n",
       "      <td>PASTOR EURICO</td>\n",
       "      <td>2013-06-03 00:00:00</td>\n",
       "      <td>1.0</td>\n",
       "      <td>1427.80</td>\n",
       "      <td>1427.800</td>\n",
       "    </tr>\n",
       "    <tr>\n",
       "      <th>52504</th>\n",
       "      <td>NILTON CAPIXABA</td>\n",
       "      <td>2011-07-04 00:00:00</td>\n",
       "      <td>1.0</td>\n",
       "      <td>1336.50</td>\n",
       "      <td>1336.500</td>\n",
       "    </tr>\n",
       "    <tr>\n",
       "      <th>52503</th>\n",
       "      <td>NILTON CAPIXABA</td>\n",
       "      <td>2011-06-05 00:00:00</td>\n",
       "      <td>1.0</td>\n",
       "      <td>1287.00</td>\n",
       "      <td>1287.000</td>\n",
       "    </tr>\n",
       "    <tr>\n",
       "      <th>9356</th>\n",
       "      <td>BETO MANSUR</td>\n",
       "      <td>2011-10-06 00:00:00</td>\n",
       "      <td>1.0</td>\n",
       "      <td>1285.54</td>\n",
       "      <td>1285.540</td>\n",
       "    </tr>\n",
       "    <tr>\n",
       "      <th>9336</th>\n",
       "      <td>BETO MANSUR</td>\n",
       "      <td>2011-03-18 00:00:00</td>\n",
       "      <td>1.0</td>\n",
       "      <td>1284.40</td>\n",
       "      <td>1284.400</td>\n",
       "    </tr>\n",
       "    <tr>\n",
       "      <th>27838</th>\n",
       "      <td>GONZAGA PATRIOTA</td>\n",
       "      <td>2012-11-16 00:00:00</td>\n",
       "      <td>1.0</td>\n",
       "      <td>1240.00</td>\n",
       "      <td>1240.000</td>\n",
       "    </tr>\n",
       "    <tr>\n",
       "      <th>27674</th>\n",
       "      <td>GONZAGA PATRIOTA</td>\n",
       "      <td>2011-01-20 00:00:00</td>\n",
       "      <td>1.0</td>\n",
       "      <td>1120.00</td>\n",
       "      <td>1120.000</td>\n",
       "    </tr>\n",
       "    <tr>\n",
       "      <th>44133</th>\n",
       "      <td>MAJOR OLIMPIO</td>\n",
       "      <td>2015-04-14 00:00:00</td>\n",
       "      <td>1.0</td>\n",
       "      <td>1109.54</td>\n",
       "      <td>1109.540</td>\n",
       "    </tr>\n",
       "    <tr>\n",
       "      <th>65222</th>\n",
       "      <td>SANDRO ALEX</td>\n",
       "      <td>2011-02-02 00:00:00</td>\n",
       "      <td>1.0</td>\n",
       "      <td>1033.78</td>\n",
       "      <td>1033.780</td>\n",
       "    </tr>\n",
       "    <tr>\n",
       "      <th>29399</th>\n",
       "      <td>IRAJÁ ABREU</td>\n",
       "      <td>2011-05-17 00:00:00</td>\n",
       "      <td>2.0</td>\n",
       "      <td>1946.92</td>\n",
       "      <td>973.460</td>\n",
       "    </tr>\n",
       "    <tr>\n",
       "      <th>...</th>\n",
       "      <td>...</td>\n",
       "      <td>...</td>\n",
       "      <td>...</td>\n",
       "      <td>...</td>\n",
       "      <td>...</td>\n",
       "    </tr>\n",
       "    <tr>\n",
       "      <th>17336</th>\n",
       "      <td>DIMAS FABIANO</td>\n",
       "      <td>2015-09-30 00:00:00</td>\n",
       "      <td>1.0</td>\n",
       "      <td>2.30</td>\n",
       "      <td>2.300</td>\n",
       "    </tr>\n",
       "    <tr>\n",
       "      <th>17352</th>\n",
       "      <td>DIMAS FABIANO</td>\n",
       "      <td>2015-12-10 00:00:00</td>\n",
       "      <td>1.0</td>\n",
       "      <td>2.30</td>\n",
       "      <td>2.300</td>\n",
       "    </tr>\n",
       "    <tr>\n",
       "      <th>55486</th>\n",
       "      <td>PEDRO UCZAI</td>\n",
       "      <td>2011-08-21 00:00:00</td>\n",
       "      <td>1.0</td>\n",
       "      <td>2.30</td>\n",
       "      <td>2.300</td>\n",
       "    </tr>\n",
       "    <tr>\n",
       "      <th>2333</th>\n",
       "      <td>AFONSO MOTTA</td>\n",
       "      <td>2015-06-13 00:00:00</td>\n",
       "      <td>2.0</td>\n",
       "      <td>4.49</td>\n",
       "      <td>2.245</td>\n",
       "    </tr>\n",
       "    <tr>\n",
       "      <th>24409</th>\n",
       "      <td>FRANCISCO FLORIANO</td>\n",
       "      <td>2012-01-13 00:00:00</td>\n",
       "      <td>1.0</td>\n",
       "      <td>2.20</td>\n",
       "      <td>2.200</td>\n",
       "    </tr>\n",
       "    <tr>\n",
       "      <th>11953</th>\n",
       "      <td>CARMEN ZANOTTO</td>\n",
       "      <td>2013-06-14 00:00:00</td>\n",
       "      <td>1.0</td>\n",
       "      <td>2.00</td>\n",
       "      <td>2.000</td>\n",
       "    </tr>\n",
       "    <tr>\n",
       "      <th>16451</th>\n",
       "      <td>DIEGO ANDRADE</td>\n",
       "      <td>2011-07-05 00:00:00</td>\n",
       "      <td>1.0</td>\n",
       "      <td>2.00</td>\n",
       "      <td>2.000</td>\n",
       "    </tr>\n",
       "    <tr>\n",
       "      <th>30973</th>\n",
       "      <td>JERÔNIMO GOERGEN</td>\n",
       "      <td>2012-11-25 00:00:00</td>\n",
       "      <td>1.0</td>\n",
       "      <td>2.00</td>\n",
       "      <td>2.000</td>\n",
       "    </tr>\n",
       "    <tr>\n",
       "      <th>30997</th>\n",
       "      <td>JERÔNIMO GOERGEN</td>\n",
       "      <td>2013-02-16 00:00:00</td>\n",
       "      <td>1.0</td>\n",
       "      <td>2.00</td>\n",
       "      <td>2.000</td>\n",
       "    </tr>\n",
       "    <tr>\n",
       "      <th>36475</th>\n",
       "      <td>JOÃO CARLOS BACELAR</td>\n",
       "      <td>2012-02-15 00:00:00</td>\n",
       "      <td>1.0</td>\n",
       "      <td>2.00</td>\n",
       "      <td>2.000</td>\n",
       "    </tr>\n",
       "    <tr>\n",
       "      <th>37885</th>\n",
       "      <td>JÔ MORAES</td>\n",
       "      <td>2012-09-27 00:00:00</td>\n",
       "      <td>1.0</td>\n",
       "      <td>2.00</td>\n",
       "      <td>2.000</td>\n",
       "    </tr>\n",
       "    <tr>\n",
       "      <th>38841</th>\n",
       "      <td>KEIKO OTA</td>\n",
       "      <td>2016-04-06 00:00:00</td>\n",
       "      <td>1.0</td>\n",
       "      <td>2.00</td>\n",
       "      <td>2.000</td>\n",
       "    </tr>\n",
       "    <tr>\n",
       "      <th>41820</th>\n",
       "      <td>LUIS CARLOS HEINZE</td>\n",
       "      <td>2012-03-24 00:00:00</td>\n",
       "      <td>1.0</td>\n",
       "      <td>2.00</td>\n",
       "      <td>2.000</td>\n",
       "    </tr>\n",
       "    <tr>\n",
       "      <th>50833</th>\n",
       "      <td>MOEMA GRAMACHO</td>\n",
       "      <td>2015-05-06 00:00:00</td>\n",
       "      <td>1.0</td>\n",
       "      <td>2.00</td>\n",
       "      <td>2.000</td>\n",
       "    </tr>\n",
       "    <tr>\n",
       "      <th>57287</th>\n",
       "      <td>RENATO MOLLING</td>\n",
       "      <td>2011-09-21 00:00:00</td>\n",
       "      <td>1.0</td>\n",
       "      <td>2.00</td>\n",
       "      <td>2.000</td>\n",
       "    </tr>\n",
       "    <tr>\n",
       "      <th>71226</th>\n",
       "      <td>VALDIR COLATTO</td>\n",
       "      <td>2013-08-18 00:00:00</td>\n",
       "      <td>1.0</td>\n",
       "      <td>2.00</td>\n",
       "      <td>2.000</td>\n",
       "    </tr>\n",
       "    <tr>\n",
       "      <th>71229</th>\n",
       "      <td>VALDIR COLATTO</td>\n",
       "      <td>2013-08-31 00:00:00</td>\n",
       "      <td>1.0</td>\n",
       "      <td>2.00</td>\n",
       "      <td>2.000</td>\n",
       "    </tr>\n",
       "    <tr>\n",
       "      <th>33201</th>\n",
       "      <td>JOSE STÉDILE</td>\n",
       "      <td>2013-05-26 00:00:00</td>\n",
       "      <td>1.0</td>\n",
       "      <td>1.99</td>\n",
       "      <td>1.990</td>\n",
       "    </tr>\n",
       "    <tr>\n",
       "      <th>41942</th>\n",
       "      <td>LUIS CARLOS HEINZE</td>\n",
       "      <td>2013-05-12 00:00:00</td>\n",
       "      <td>1.0</td>\n",
       "      <td>1.80</td>\n",
       "      <td>1.800</td>\n",
       "    </tr>\n",
       "    <tr>\n",
       "      <th>36439</th>\n",
       "      <td>JOÃO CARLOS BACELAR</td>\n",
       "      <td>2011-10-30 00:00:00</td>\n",
       "      <td>1.0</td>\n",
       "      <td>1.60</td>\n",
       "      <td>1.600</td>\n",
       "    </tr>\n",
       "    <tr>\n",
       "      <th>28027</th>\n",
       "      <td>GONZAGA PATRIOTA</td>\n",
       "      <td>2014-12-02 00:00:00</td>\n",
       "      <td>1.0</td>\n",
       "      <td>1.50</td>\n",
       "      <td>1.500</td>\n",
       "    </tr>\n",
       "    <tr>\n",
       "      <th>31040</th>\n",
       "      <td>JERÔNIMO GOERGEN</td>\n",
       "      <td>2013-04-30 00:00:00</td>\n",
       "      <td>1.0</td>\n",
       "      <td>1.50</td>\n",
       "      <td>1.500</td>\n",
       "    </tr>\n",
       "    <tr>\n",
       "      <th>33513</th>\n",
       "      <td>JOSE STÉDILE</td>\n",
       "      <td>2016-03-09 00:00:00</td>\n",
       "      <td>1.0</td>\n",
       "      <td>1.50</td>\n",
       "      <td>1.500</td>\n",
       "    </tr>\n",
       "    <tr>\n",
       "      <th>36466</th>\n",
       "      <td>JOÃO CARLOS BACELAR</td>\n",
       "      <td>2012-01-12 00:00:00</td>\n",
       "      <td>1.0</td>\n",
       "      <td>1.50</td>\n",
       "      <td>1.500</td>\n",
       "    </tr>\n",
       "    <tr>\n",
       "      <th>55760</th>\n",
       "      <td>PEDRO UCZAI</td>\n",
       "      <td>2013-02-15 00:00:00</td>\n",
       "      <td>1.0</td>\n",
       "      <td>1.50</td>\n",
       "      <td>1.500</td>\n",
       "    </tr>\n",
       "    <tr>\n",
       "      <th>57496</th>\n",
       "      <td>RENATO MOLLING</td>\n",
       "      <td>2013-04-23 00:00:00</td>\n",
       "      <td>1.0</td>\n",
       "      <td>1.50</td>\n",
       "      <td>1.500</td>\n",
       "    </tr>\n",
       "    <tr>\n",
       "      <th>20745</th>\n",
       "      <td>EDUARDO BARBOSA</td>\n",
       "      <td>2013-05-06 00:00:00</td>\n",
       "      <td>1.0</td>\n",
       "      <td>1.40</td>\n",
       "      <td>1.400</td>\n",
       "    </tr>\n",
       "    <tr>\n",
       "      <th>323</th>\n",
       "      <td>ADEMIR CAMILO</td>\n",
       "      <td>2011-06-17 00:00:00</td>\n",
       "      <td>1.0</td>\n",
       "      <td>1.00</td>\n",
       "      <td>1.000</td>\n",
       "    </tr>\n",
       "    <tr>\n",
       "      <th>401</th>\n",
       "      <td>ADEMIR CAMILO</td>\n",
       "      <td>2012-04-11 00:00:00</td>\n",
       "      <td>1.0</td>\n",
       "      <td>0.73</td>\n",
       "      <td>0.730</td>\n",
       "    </tr>\n",
       "    <tr>\n",
       "      <th>14311</th>\n",
       "      <td>CLAUDIO CAJADO</td>\n",
       "      <td>2015-11-14 00:00:00</td>\n",
       "      <td>1.0</td>\n",
       "      <td>0.01</td>\n",
       "      <td>0.010</td>\n",
       "    </tr>\n",
       "  </tbody>\n",
       "</table>\n",
       "<p>77115 rows × 5 columns</p>\n",
       "</div>"
      ],
      "text/plain": [
       "       congressperson_name          issue_date  len      sum   nanmean\n",
       "36838         JOÃO CASTELO 2015-11-10 00:00:00  1.0  3041.80  3041.800\n",
       "36828         JOÃO CASTELO 2015-09-16 00:00:00  1.0  3003.64  3003.640\n",
       "10860       CARLOS BEZERRA 2015-06-03 00:00:00  1.0  2395.80  2395.800\n",
       "36850         JOÃO CASTELO 2016-06-03 00:00:00  1.0  2360.50  2360.500\n",
       "36847         JOÃO CASTELO 2016-04-04 01:00:00  1.0  1944.00  1944.000\n",
       "29434          IRAJÁ ABREU 2011-10-18 00:00:00  1.0  1940.52  1940.520\n",
       "48665     MARQUINHO MENDES 2015-12-02 00:00:00  1.0  1887.60  1887.600\n",
       "36841         JOÃO CASTELO 2016-02-01 00:00:00  1.0  1772.34  1772.340\n",
       "25601      FÁBIO MITIDIERI 2015-06-10 00:00:00  1.0  1726.31  1726.310\n",
       "29465          IRAJÁ ABREU 2012-05-26 00:00:00  1.0  1665.21  1665.210\n",
       "26770      GERALDO RESENDE 2013-09-05 00:00:00  1.0  1640.00  1640.000\n",
       "54096        PASTOR EURICO 2013-05-02 00:00:00  1.0  1622.50  1622.500\n",
       "7468         ARNALDO JORDY 2011-11-07 00:00:00  1.0  1600.00  1600.000\n",
       "9366           BETO MANSUR 2012-06-21 00:00:00  1.0  1540.00  1540.000\n",
       "23155        EVANDRO ROMAN 2016-04-11 00:00:00  1.0  1530.00  1530.000\n",
       "44231        MAJOR OLIMPIO 2015-09-08 00:00:00  1.0  1520.21  1520.210\n",
       "20497      EDUARDO BARBOSA 2011-11-28 00:00:00  1.0  1500.00  1500.000\n",
       "36853         JOÃO CASTELO 2016-07-11 00:00:00  1.0  1499.00  1499.000\n",
       "27676     GONZAGA PATRIOTA 2011-02-13 00:00:00  1.0  1493.00  1493.000\n",
       "70281      TEREZA CRISTINA 2015-02-19 00:00:00  1.0  1488.63  1488.630\n",
       "54105        PASTOR EURICO 2013-06-03 00:00:00  1.0  1427.80  1427.800\n",
       "52504      NILTON CAPIXABA 2011-07-04 00:00:00  1.0  1336.50  1336.500\n",
       "52503      NILTON CAPIXABA 2011-06-05 00:00:00  1.0  1287.00  1287.000\n",
       "9356           BETO MANSUR 2011-10-06 00:00:00  1.0  1285.54  1285.540\n",
       "9336           BETO MANSUR 2011-03-18 00:00:00  1.0  1284.40  1284.400\n",
       "27838     GONZAGA PATRIOTA 2012-11-16 00:00:00  1.0  1240.00  1240.000\n",
       "27674     GONZAGA PATRIOTA 2011-01-20 00:00:00  1.0  1120.00  1120.000\n",
       "44133        MAJOR OLIMPIO 2015-04-14 00:00:00  1.0  1109.54  1109.540\n",
       "65222          SANDRO ALEX 2011-02-02 00:00:00  1.0  1033.78  1033.780\n",
       "29399          IRAJÁ ABREU 2011-05-17 00:00:00  2.0  1946.92   973.460\n",
       "...                    ...                 ...  ...      ...       ...\n",
       "17336        DIMAS FABIANO 2015-09-30 00:00:00  1.0     2.30     2.300\n",
       "17352        DIMAS FABIANO 2015-12-10 00:00:00  1.0     2.30     2.300\n",
       "55486          PEDRO UCZAI 2011-08-21 00:00:00  1.0     2.30     2.300\n",
       "2333          AFONSO MOTTA 2015-06-13 00:00:00  2.0     4.49     2.245\n",
       "24409   FRANCISCO FLORIANO 2012-01-13 00:00:00  1.0     2.20     2.200\n",
       "11953       CARMEN ZANOTTO 2013-06-14 00:00:00  1.0     2.00     2.000\n",
       "16451        DIEGO ANDRADE 2011-07-05 00:00:00  1.0     2.00     2.000\n",
       "30973     JERÔNIMO GOERGEN 2012-11-25 00:00:00  1.0     2.00     2.000\n",
       "30997     JERÔNIMO GOERGEN 2013-02-16 00:00:00  1.0     2.00     2.000\n",
       "36475  JOÃO CARLOS BACELAR 2012-02-15 00:00:00  1.0     2.00     2.000\n",
       "37885            JÔ MORAES 2012-09-27 00:00:00  1.0     2.00     2.000\n",
       "38841            KEIKO OTA 2016-04-06 00:00:00  1.0     2.00     2.000\n",
       "41820   LUIS CARLOS HEINZE 2012-03-24 00:00:00  1.0     2.00     2.000\n",
       "50833       MOEMA GRAMACHO 2015-05-06 00:00:00  1.0     2.00     2.000\n",
       "57287       RENATO MOLLING 2011-09-21 00:00:00  1.0     2.00     2.000\n",
       "71226       VALDIR COLATTO 2013-08-18 00:00:00  1.0     2.00     2.000\n",
       "71229       VALDIR COLATTO 2013-08-31 00:00:00  1.0     2.00     2.000\n",
       "33201         JOSE STÉDILE 2013-05-26 00:00:00  1.0     1.99     1.990\n",
       "41942   LUIS CARLOS HEINZE 2013-05-12 00:00:00  1.0     1.80     1.800\n",
       "36439  JOÃO CARLOS BACELAR 2011-10-30 00:00:00  1.0     1.60     1.600\n",
       "28027     GONZAGA PATRIOTA 2014-12-02 00:00:00  1.0     1.50     1.500\n",
       "31040     JERÔNIMO GOERGEN 2013-04-30 00:00:00  1.0     1.50     1.500\n",
       "33513         JOSE STÉDILE 2016-03-09 00:00:00  1.0     1.50     1.500\n",
       "36466  JOÃO CARLOS BACELAR 2012-01-12 00:00:00  1.0     1.50     1.500\n",
       "55760          PEDRO UCZAI 2013-02-15 00:00:00  1.0     1.50     1.500\n",
       "57496       RENATO MOLLING 2013-04-23 00:00:00  1.0     1.50     1.500\n",
       "20745      EDUARDO BARBOSA 2013-05-06 00:00:00  1.0     1.40     1.400\n",
       "323          ADEMIR CAMILO 2011-06-17 00:00:00  1.0     1.00     1.000\n",
       "401          ADEMIR CAMILO 2012-04-11 00:00:00  1.0     0.73     0.730\n",
       "14311       CLAUDIO CAJADO 2015-11-14 00:00:00  1.0     0.01     0.010\n",
       "\n",
       "[77115 rows x 5 columns]"
      ]
     },
     "execution_count": 7,
     "metadata": {},
     "output_type": "execute_result"
    }
   ],
   "source": [
    "import numpy as np\n",
    "\n",
    "aggregation = data. \\\n",
    "    groupby(['congressperson_name', 'issue_date'])['net_value']. \\\n",
    "    agg([len, np.sum, np.nanmean]). \\\n",
    "    reset_index()\n",
    "aggregation.sort_values(['nanmean', 'len'], ascending=[False, False])"
   ]
  },
  {
   "cell_type": "code",
   "execution_count": 8,
   "metadata": {
    "collapsed": false
   },
   "outputs": [
    {
     "data": {
      "text/plain": [
       "<seaborn.axisgrid.FacetGrid at 0x134f0f9b0>"
      ]
     },
     "execution_count": 8,
     "metadata": {},
     "output_type": "execute_result"
    },
    {
     "data": {
      "image/png": "[encoded data removed]",
      "text/plain": [
       "<matplotlib.figure.Figure at 0x134f0fc18>"
      ]
     },
     "metadata": {},
     "output_type": "display_data"
    }
   ],
   "source": [
    "sns.lmplot('len', 'sum',\n",
    "           data=aggregation,\n",
    "           fit_reg=False,\n",
    "           scatter_kws={\"marker\": \"D\", \n",
    "                        \"s\": 100})"
   ]
  },
  {
   "cell_type": "code",
   "execution_count": 9,
   "metadata": {
    "collapsed": false
   },
   "outputs": [
    {
     "data": {
      "text/html": [
       "<div>\n",
       "<table border=\"1\" class=\"dataframe\">\n",
       "  <thead>\n",
       "    <tr style=\"text-align: right;\">\n",
       "      <th></th>\n",
       "      <th>congressperson_name</th>\n",
       "      <th>issue_date</th>\n",
       "      <th>len</th>\n",
       "      <th>sum</th>\n",
       "      <th>nanmean</th>\n",
       "    </tr>\n",
       "  </thead>\n",
       "  <tbody>\n",
       "    <tr>\n",
       "      <th>12642</th>\n",
       "      <td>CELSO MALDANER</td>\n",
       "      <td>2011-09-05</td>\n",
       "      <td>13.0</td>\n",
       "      <td>750.28</td>\n",
       "      <td>57.713846</td>\n",
       "    </tr>\n",
       "    <tr>\n",
       "      <th>43763</th>\n",
       "      <td>MAGDA MOFATTO</td>\n",
       "      <td>2015-03-15</td>\n",
       "      <td>9.0</td>\n",
       "      <td>435.63</td>\n",
       "      <td>48.403333</td>\n",
       "    </tr>\n",
       "    <tr>\n",
       "      <th>70038</th>\n",
       "      <td>TAKAYAMA</td>\n",
       "      <td>2015-08-14</td>\n",
       "      <td>9.0</td>\n",
       "      <td>437.08</td>\n",
       "      <td>48.564444</td>\n",
       "    </tr>\n",
       "  </tbody>\n",
       "</table>\n",
       "</div>"
      ],
      "text/plain": [
       "      congressperson_name issue_date   len     sum    nanmean\n",
       "12642      CELSO MALDANER 2011-09-05  13.0  750.28  57.713846\n",
       "43763       MAGDA MOFATTO 2015-03-15   9.0  435.63  48.403333\n",
       "70038            TAKAYAMA 2015-08-14   9.0  437.08  48.564444"
      ]
     },
     "execution_count": 9,
     "metadata": {},
     "output_type": "execute_result"
    }
   ],
   "source": [
    "aggregation[aggregation['len'] > 8]"
   ]
  },
  {
   "cell_type": "code",
   "execution_count": 10,
   "metadata": {
    "collapsed": false
   },
   "outputs": [
    {
     "data": {
      "text/html": [
       "<div>\n",
       "<table border=\"1\" class=\"dataframe\">\n",
       "  <thead>\n",
       "    <tr style=\"text-align: right;\">\n",
       "      <th></th>\n",
       "      <th>document_id</th>\n",
       "      <th>congressperson_name</th>\n",
       "      <th>congressperson_id</th>\n",
       "      <th>congressperson_document</th>\n",
       "      <th>term</th>\n",
       "      <th>state</th>\n",
       "      <th>party</th>\n",
       "      <th>term_id</th>\n",
       "      <th>subquota_number</th>\n",
       "      <th>subquota_description</th>\n",
       "      <th>...</th>\n",
       "      <th>month</th>\n",
       "      <th>year</th>\n",
       "      <th>installment</th>\n",
       "      <th>passenger</th>\n",
       "      <th>leg_of_the_trip</th>\n",
       "      <th>batch_number</th>\n",
       "      <th>reimbursement_number</th>\n",
       "      <th>reimbursement_value</th>\n",
       "      <th>applicant_id</th>\n",
       "      <th>document_url</th>\n",
       "    </tr>\n",
       "  </thead>\n",
       "  <tbody>\n",
       "    <tr>\n",
       "      <th>223932</th>\n",
       "      <td>5645177</td>\n",
       "      <td>MAGDA MOFATTO</td>\n",
       "      <td>166402</td>\n",
       "      <td>431</td>\n",
       "      <td>2015.0</td>\n",
       "      <td>GO</td>\n",
       "      <td>PR</td>\n",
       "      <td>55</td>\n",
       "      <td>13</td>\n",
       "      <td>Congressperson meal</td>\n",
       "      <td>...</td>\n",
       "      <td>3</td>\n",
       "      <td>2015</td>\n",
       "      <td>0</td>\n",
       "      <td>NaN</td>\n",
       "      <td>NaN</td>\n",
       "      <td>1180192</td>\n",
       "      <td>4993</td>\n",
       "      <td>NaN</td>\n",
       "      <td>2437</td>\n",
       "      <td>http://www.camara.gov.br/cota-parlamentar/docu...</td>\n",
       "    </tr>\n",
       "    <tr>\n",
       "      <th>223933</th>\n",
       "      <td>5645173</td>\n",
       "      <td>MAGDA MOFATTO</td>\n",
       "      <td>166402</td>\n",
       "      <td>431</td>\n",
       "      <td>2015.0</td>\n",
       "      <td>GO</td>\n",
       "      <td>PR</td>\n",
       "      <td>55</td>\n",
       "      <td>13</td>\n",
       "      <td>Congressperson meal</td>\n",
       "      <td>...</td>\n",
       "      <td>3</td>\n",
       "      <td>2015</td>\n",
       "      <td>0</td>\n",
       "      <td>NaN</td>\n",
       "      <td>NaN</td>\n",
       "      <td>1179958</td>\n",
       "      <td>4993</td>\n",
       "      <td>NaN</td>\n",
       "      <td>2437</td>\n",
       "      <td>http://www.camara.gov.br/cota-parlamentar/docu...</td>\n",
       "    </tr>\n",
       "  </tbody>\n",
       "</table>\n",
       "<p>2 rows × 30 columns</p>\n",
       "</div>"
      ],
      "text/plain": [
       "       document_id congressperson_name congressperson_id  \\\n",
       "223932     5645177       MAGDA MOFATTO            166402   \n",
       "223933     5645173       MAGDA MOFATTO            166402   \n",
       "\n",
       "       congressperson_document    term state party term_id  subquota_number  \\\n",
       "223932                     431  2015.0    GO    PR      55               13   \n",
       "223933                     431  2015.0    GO    PR      55               13   \n",
       "\n",
       "       subquota_description  \\\n",
       "223932  Congressperson meal   \n",
       "223933  Congressperson meal   \n",
       "\n",
       "                              ...                          month  year  \\\n",
       "223932                        ...                              3  2015   \n",
       "223933                        ...                              3  2015   \n",
       "\n",
       "       installment passenger leg_of_the_trip  batch_number  \\\n",
       "223932           0       NaN             NaN       1180192   \n",
       "223933           0       NaN             NaN       1179958   \n",
       "\n",
       "       reimbursement_number  reimbursement_value  applicant_id  \\\n",
       "223932                 4993                  NaN          2437   \n",
       "223933                 4993                  NaN          2437   \n",
       "\n",
       "                                             document_url  \n",
       "223932  http://www.camara.gov.br/cota-parlamentar/docu...  \n",
       "223933  http://www.camara.gov.br/cota-parlamentar/docu...  \n",
       "\n",
       "[2 rows x 30 columns]"
      ]
     },
     "execution_count": 10,
     "metadata": {},
     "output_type": "execute_result"
    }
   ],
   "source": [
    "magda = data[(data['congressperson_name'] == 'MAGDA MOFATTO') & (data['issue_date'] == '2015-03-15')]\n",
    "magda = magda[magda['document_id'].isin(['5645173', '5645177'])]\n",
    "document_urls = magda. \\\n",
    "    apply(lambda row: pd.Series({'document_url': document_url(row)}), axis=1)\n",
    "\n",
    "equal = pd.concat([magda, document_urls], axis=1)\n",
    "equal"
   ]
  },
  {
   "cell_type": "code",
   "execution_count": 11,
   "metadata": {
    "collapsed": false
   },
   "outputs": [
    {
     "name": "stdout",
     "output_type": "stream",
     "text": [
      "http://www.camara.gov.br/cota-parlamentar/documentos/publ/2437/2015/5645177.pdf\n"
     ]
    },
    {
     "data": {
      "text/plain": [
       "document_id                                                             5645177\n",
       "congressperson_name                                               MAGDA MOFATTO\n",
       "congressperson_id                                                        166402\n",
       "congressperson_document                                                     431\n",
       "term                                                                       2015\n",
       "state                                                                        GO\n",
       "party                                                                        PR\n",
       "term_id                                                                      55\n",
       "subquota_number                                                              13\n",
       "subquota_description                                        Congressperson meal\n",
       "subquota_group_id                                                             0\n",
       "subquota_group_description                                                  NaN\n",
       "supplier                          JACKSON LUIZ DA COSTA LEAL - RECANTO DO MILHO\n",
       "cnpj_cpf                                                         11810760000180\n",
       "document_number                                                          075361\n",
       "document_type                                                                 0\n",
       "issue_date                                                  2015-03-15 00:00:00\n",
       "document_value                                                             79.6\n",
       "remark_value                                                                  0\n",
       "net_value                                                                  79.6\n",
       "month                                                                         3\n",
       "year                                                                       2015\n",
       "installment                                                                   0\n",
       "passenger                                                                   NaN\n",
       "leg_of_the_trip                                                             NaN\n",
       "batch_number                                                            1180192\n",
       "reimbursement_number                                                       4993\n",
       "reimbursement_value                                                         NaN\n",
       "applicant_id                                                               2437\n",
       "document_url                  http://www.camara.gov.br/cota-parlamentar/docu...\n",
       "Name: 223932, dtype: object"
      ]
     },
     "execution_count": 11,
     "metadata": {},
     "output_type": "execute_result"
    }
   ],
   "source": [
    "record = equal.iloc[0]\n",
    "print(record['document_url'])\n",
    "record"
   ]
  },
  {
   "cell_type": "code",
   "execution_count": 12,
   "metadata": {
    "collapsed": false
   },
   "outputs": [
    {
     "name": "stdout",
     "output_type": "stream",
     "text": [
      "http://www.camara.gov.br/cota-parlamentar/documentos/publ/2437/2015/5645173.pdf\n"
     ]
    },
    {
     "data": {
      "text/plain": [
       "document_id                                                             5645173\n",
       "congressperson_name                                               MAGDA MOFATTO\n",
       "congressperson_id                                                        166402\n",
       "congressperson_document                                                     431\n",
       "term                                                                       2015\n",
       "state                                                                        GO\n",
       "party                                                                        PR\n",
       "term_id                                                                      55\n",
       "subquota_number                                                              13\n",
       "subquota_description                                        Congressperson meal\n",
       "subquota_group_id                                                             0\n",
       "subquota_group_description                                                  NaN\n",
       "supplier                          JACKSON LUIZ DA COSTA LEAL - RECANTO DO MILHO\n",
       "cnpj_cpf                                                         11810760000180\n",
       "document_number                                                          075363\n",
       "document_type                                                                 0\n",
       "issue_date                                                  2015-03-15 00:00:00\n",
       "document_value                                                               70\n",
       "remark_value                                                                  0\n",
       "net_value                                                                    70\n",
       "month                                                                         3\n",
       "year                                                                       2015\n",
       "installment                                                                   0\n",
       "passenger                                                                   NaN\n",
       "leg_of_the_trip                                                             NaN\n",
       "batch_number                                                            1179958\n",
       "reimbursement_number                                                       4993\n",
       "reimbursement_value                                                         NaN\n",
       "applicant_id                                                               2437\n",
       "document_url                  http://www.camara.gov.br/cota-parlamentar/docu...\n",
       "Name: 223933, dtype: object"
      ]
     },
     "execution_count": 12,
     "metadata": {},
     "output_type": "execute_result"
    }
   ],
   "source": [
    "record = equal.iloc[1]\n",
    "print(record['document_url'])\n",
    "record"
   ]
  },
  {
   "cell_type": "markdown",
   "metadata": {},
   "source": [
    "## Add distance from last day"
   ]
  },
  {
   "cell_type": "code",
   "execution_count": 13,
   "metadata": {
    "collapsed": false
   },
   "outputs": [],
   "source": [
    "companies = pd.read_csv('../data/2016-09-03-companies.xz', low_memory=False)\n",
    "companies['cnpj'] = companies['cnpj'].str.replace(r'[./-]', '')"
   ]
  },
  {
   "cell_type": "code",
   "execution_count": 14,
   "metadata": {
    "collapsed": false
   },
   "outputs": [
    {
     "data": {
      "text/plain": [
       "['situation_date',\n",
       " 'type',\n",
       " 'name',\n",
       " 'phone',\n",
       " 'situation',\n",
       " 'neighborhood',\n",
       " 'address',\n",
       " 'number',\n",
       " 'zip_code',\n",
       " 'city',\n",
       " 'state',\n",
       " 'opening',\n",
       " 'legal_entity',\n",
       " 'trade_name',\n",
       " 'cnpj',\n",
       " 'last_updated',\n",
       " 'status',\n",
       " 'additional_address_details',\n",
       " 'email',\n",
       " 'responsible_federative_entity',\n",
       " 'situation_reason',\n",
       " 'special_situation',\n",
       " 'special_situation_date',\n",
       " 'message',\n",
       " 'main_activity_code',\n",
       " 'main_activity',\n",
       " 'latitude',\n",
       " 'longitude']"
      ]
     },
     "execution_count": 14,
     "metadata": {},
     "output_type": "execute_result"
    }
   ],
   "source": [
    "list(companies.columns[:26]) + ['latitude', 'longitude']"
   ]
  },
  {
   "cell_type": "code",
   "execution_count": 15,
   "metadata": {
    "collapsed": false
   },
   "outputs": [],
   "source": [
    "companies = companies[list(companies.columns[:26]) + ['latitude', 'longitude']]"
   ]
  },
  {
   "cell_type": "code",
   "execution_count": 16,
   "metadata": {
    "collapsed": false
   },
   "outputs": [
    {
     "data": {
      "text/html": [
       "<div>\n",
       "<table border=\"1\" class=\"dataframe\">\n",
       "  <thead>\n",
       "    <tr style=\"text-align: right;\">\n",
       "      <th></th>\n",
       "      <th>document_id</th>\n",
       "      <th>congressperson_name</th>\n",
       "      <th>congressperson_id</th>\n",
       "      <th>congressperson_document</th>\n",
       "      <th>term</th>\n",
       "      <th>state_x</th>\n",
       "      <th>party</th>\n",
       "      <th>term_id</th>\n",
       "      <th>subquota_number</th>\n",
       "      <th>subquota_description</th>\n",
       "      <th>...</th>\n",
       "      <th>email</th>\n",
       "      <th>responsible_federative_entity</th>\n",
       "      <th>situation_reason</th>\n",
       "      <th>special_situation</th>\n",
       "      <th>special_situation_date</th>\n",
       "      <th>message</th>\n",
       "      <th>main_activity_code</th>\n",
       "      <th>main_activity</th>\n",
       "      <th>latitude</th>\n",
       "      <th>longitude</th>\n",
       "    </tr>\n",
       "  </thead>\n",
       "  <tbody>\n",
       "    <tr>\n",
       "      <th>0</th>\n",
       "      <td>1986899</td>\n",
       "      <td>JOSÉ ROCHA</td>\n",
       "      <td>74554</td>\n",
       "      <td>203</td>\n",
       "      <td>2015.0</td>\n",
       "      <td>BA</td>\n",
       "      <td>PR</td>\n",
       "      <td>55</td>\n",
       "      <td>13</td>\n",
       "      <td>Congressperson meal</td>\n",
       "      <td>...</td>\n",
       "      <td>NaN</td>\n",
       "      <td>NaN</td>\n",
       "      <td>NaN</td>\n",
       "      <td>NaN</td>\n",
       "      <td>NaN</td>\n",
       "      <td>NaN</td>\n",
       "      <td>56.11-2-01</td>\n",
       "      <td>Restaurantes e similares</td>\n",
       "      <td>-15.804453</td>\n",
       "      <td>-47.894918</td>\n",
       "    </tr>\n",
       "    <tr>\n",
       "      <th>1</th>\n",
       "      <td>1988231</td>\n",
       "      <td>VANDERLEI MACRIS</td>\n",
       "      <td>141553</td>\n",
       "      <td>394</td>\n",
       "      <td>2015.0</td>\n",
       "      <td>SP</td>\n",
       "      <td>PSDB</td>\n",
       "      <td>55</td>\n",
       "      <td>13</td>\n",
       "      <td>Congressperson meal</td>\n",
       "      <td>...</td>\n",
       "      <td>NaN</td>\n",
       "      <td>NaN</td>\n",
       "      <td>NaN</td>\n",
       "      <td>NaN</td>\n",
       "      <td>NaN</td>\n",
       "      <td>NaN</td>\n",
       "      <td>47.21-1-02</td>\n",
       "      <td>Padaria e confeitaria com predominância de rev...</td>\n",
       "      <td>-23.604546</td>\n",
       "      <td>-46.656918</td>\n",
       "    </tr>\n",
       "    <tr>\n",
       "      <th>4</th>\n",
       "      <td>2001261</td>\n",
       "      <td>PEPE VARGAS</td>\n",
       "      <td>141445</td>\n",
       "      <td>503</td>\n",
       "      <td>2015.0</td>\n",
       "      <td>RS</td>\n",
       "      <td>PT</td>\n",
       "      <td>55</td>\n",
       "      <td>13</td>\n",
       "      <td>Congressperson meal</td>\n",
       "      <td>...</td>\n",
       "      <td>NaN</td>\n",
       "      <td>NaN</td>\n",
       "      <td>NaN</td>\n",
       "      <td>NaN</td>\n",
       "      <td>NaN</td>\n",
       "      <td>NaN</td>\n",
       "      <td>56.11-2-01</td>\n",
       "      <td>Restaurantes e similares</td>\n",
       "      <td>-15.841430</td>\n",
       "      <td>-47.876751</td>\n",
       "    </tr>\n",
       "    <tr>\n",
       "      <th>5</th>\n",
       "      <td>2001266</td>\n",
       "      <td>SANDES JÚNIOR</td>\n",
       "      <td>74372</td>\n",
       "      <td>524</td>\n",
       "      <td>2015.0</td>\n",
       "      <td>GO</td>\n",
       "      <td>PP</td>\n",
       "      <td>55</td>\n",
       "      <td>13</td>\n",
       "      <td>Congressperson meal</td>\n",
       "      <td>...</td>\n",
       "      <td>NaN</td>\n",
       "      <td>NaN</td>\n",
       "      <td>NaN</td>\n",
       "      <td>NaN</td>\n",
       "      <td>NaN</td>\n",
       "      <td>NaN</td>\n",
       "      <td>56.11-2-01</td>\n",
       "      <td>Restaurantes e similares</td>\n",
       "      <td>-15.814051</td>\n",
       "      <td>-47.848019</td>\n",
       "    </tr>\n",
       "    <tr>\n",
       "      <th>6</th>\n",
       "      <td>1989599</td>\n",
       "      <td>FELIPE MAIA</td>\n",
       "      <td>141429</td>\n",
       "      <td>120</td>\n",
       "      <td>2015.0</td>\n",
       "      <td>RN</td>\n",
       "      <td>DEM</td>\n",
       "      <td>55</td>\n",
       "      <td>13</td>\n",
       "      <td>Congressperson meal</td>\n",
       "      <td>...</td>\n",
       "      <td>potiguar@camaroes.com.br</td>\n",
       "      <td>NaN</td>\n",
       "      <td>NaN</td>\n",
       "      <td>NaN</td>\n",
       "      <td>NaN</td>\n",
       "      <td>NaN</td>\n",
       "      <td>56.11-2-01</td>\n",
       "      <td>Restaurantes e similares</td>\n",
       "      <td>-5.811294</td>\n",
       "      <td>-35.206236</td>\n",
       "    </tr>\n",
       "  </tbody>\n",
       "</table>\n",
       "<p>5 rows × 57 columns</p>\n",
       "</div>"
      ],
      "text/plain": [
       "  document_id congressperson_name congressperson_id congressperson_document  \\\n",
       "0     1986899          JOSÉ ROCHA             74554                     203   \n",
       "1     1988231    VANDERLEI MACRIS            141553                     394   \n",
       "4     2001261         PEPE VARGAS            141445                     503   \n",
       "5     2001266       SANDES JÚNIOR             74372                     524   \n",
       "6     1989599         FELIPE MAIA            141429                     120   \n",
       "\n",
       "     term state_x party term_id  subquota_number subquota_description  \\\n",
       "0  2015.0      BA    PR      55               13  Congressperson meal   \n",
       "1  2015.0      SP  PSDB      55               13  Congressperson meal   \n",
       "4  2015.0      RS    PT      55               13  Congressperson meal   \n",
       "5  2015.0      GO    PP      55               13  Congressperson meal   \n",
       "6  2015.0      RN   DEM      55               13  Congressperson meal   \n",
       "\n",
       "     ...                         email responsible_federative_entity  \\\n",
       "0    ...                           NaN                           NaN   \n",
       "1    ...                           NaN                           NaN   \n",
       "4    ...                           NaN                           NaN   \n",
       "5    ...                           NaN                           NaN   \n",
       "6    ...      potiguar@camaroes.com.br                           NaN   \n",
       "\n",
       "  situation_reason special_situation special_situation_date  message  \\\n",
       "0              NaN               NaN                    NaN      NaN   \n",
       "1              NaN               NaN                    NaN      NaN   \n",
       "4              NaN               NaN                    NaN      NaN   \n",
       "5              NaN               NaN                    NaN      NaN   \n",
       "6              NaN               NaN                    NaN      NaN   \n",
       "\n",
       "  main_activity_code                                      main_activity  \\\n",
       "0         56.11-2-01                           Restaurantes e similares   \n",
       "1         47.21-1-02  Padaria e confeitaria com predominância de rev...   \n",
       "4         56.11-2-01                           Restaurantes e similares   \n",
       "5         56.11-2-01                           Restaurantes e similares   \n",
       "6         56.11-2-01                           Restaurantes e similares   \n",
       "\n",
       "    latitude  longitude  \n",
       "0 -15.804453 -47.894918  \n",
       "1 -23.604546 -46.656918  \n",
       "4 -15.841430 -47.876751  \n",
       "5 -15.814051 -47.848019  \n",
       "6  -5.811294 -35.206236  \n",
       "\n",
       "[5 rows x 57 columns]"
      ]
     },
     "execution_count": 16,
     "metadata": {},
     "output_type": "execute_result"
    }
   ],
   "source": [
    "data_with_geo = pd.merge(data, companies,\n",
    "                         how='left',\n",
    "                         left_on='cnpj_cpf',\n",
    "                         right_on='cnpj')\n",
    "data_with_geo = data_with_geo[data_with_geo['cnpj'].notnull()]\n",
    "data_with_geo.head()"
   ]
  },
  {
   "cell_type": "code",
   "execution_count": 17,
   "metadata": {
    "collapsed": false,
    "scrolled": true
   },
   "outputs": [
    {
     "data": {
      "text/plain": [
       "document_id                                                              1986899\n",
       "congressperson_name                                                   JOSÉ ROCHA\n",
       "congressperson_id                                                          74554\n",
       "congressperson_document                                                      203\n",
       "term                                                                        2015\n",
       "state_x                                                                       BA\n",
       "party                                                                         PR\n",
       "term_id                                                                       55\n",
       "subquota_number                                                               13\n",
       "subquota_description                                         Congressperson meal\n",
       "subquota_group_id                                                              0\n",
       "subquota_group_description                                                   NaN\n",
       "supplier                                              FRANCISCO RESTAURANTE LTDA\n",
       "cnpj_cpf                                                          02703510000150\n",
       "document_number                                                           057468\n",
       "document_type                                                                  0\n",
       "issue_date                                                   2011-01-01 00:00:00\n",
       "document_value                                                               147\n",
       "remark_value                                                                   0\n",
       "net_value                                                                    147\n",
       "month                                                                          1\n",
       "year                                                                        2011\n",
       "installment                                                                    0\n",
       "passenger                                                                    NaN\n",
       "leg_of_the_trip                                                              NaN\n",
       "batch_number                                                              513139\n",
       "reimbursement_number                                                        3506\n",
       "reimbursement_value                                                          NaN\n",
       "applicant_id                                                                1071\n",
       "situation_date                                                        14/12/2002\n",
       "type                                                                      MATRIZ\n",
       "name                                            FRANCISCO RESTAURANTE LTDA - EPP\n",
       "phone                                                             (61) 3226-2626\n",
       "situation                                                                  ATIVA\n",
       "neighborhood                                                             ASA SUL\n",
       "address                          Q SHC/SUL CL QUADRA 402 BLOCO B LOJA 05, 09, 15\n",
       "number                                                                       S/N\n",
       "zip_code                                                              70.237-500\n",
       "city                                                                    BRASILIA\n",
       "state_y                                                                       DF\n",
       "opening                                                               27/06/1988\n",
       "legal_entity                               206-2 - SOCIEDADE EMPRESARIA LIMITADA\n",
       "trade_name                                                                   NaN\n",
       "cnpj                                                              02703510000150\n",
       "last_updated                                            2016-07-06T22:19:26.740Z\n",
       "status                                                                        OK\n",
       "additional_address_details                                                   NaN\n",
       "email                                                                        NaN\n",
       "responsible_federative_entity                                                NaN\n",
       "situation_reason                                                             NaN\n",
       "special_situation                                                            NaN\n",
       "special_situation_date                                                       NaN\n",
       "message                                                                      NaN\n",
       "main_activity_code                                                    56.11-2-01\n",
       "main_activity                                           Restaurantes e similares\n",
       "latitude                                                                -15.8045\n",
       "longitude                                                               -47.8949\n",
       "Name: 0, dtype: object"
      ]
     },
     "metadata": {},
     "output_type": "display_data"
    },
    {
     "data": {
      "text/plain": [
       "document_id                                                    1988249\n",
       "congressperson_name                                   VANDERLEI MACRIS\n",
       "congressperson_id                                               141553\n",
       "congressperson_document                                            394\n",
       "term                                                              2015\n",
       "state_x                                                             SP\n",
       "party                                                             PSDB\n",
       "term_id                                                             55\n",
       "subquota_number                                                     13\n",
       "subquota_description                               Congressperson meal\n",
       "subquota_group_id                                                    0\n",
       "subquota_group_description                                         NaN\n",
       "supplier                             RESTAURANTE SANTA GERTRUDES LTDA.\n",
       "cnpj_cpf                                                47904495000147\n",
       "document_number                                                 078836\n",
       "document_type                                                        0\n",
       "issue_date                                         2011-01-04 00:00:00\n",
       "document_value                                                     140\n",
       "remark_value                                                         0\n",
       "net_value                                                          140\n",
       "month                                                                1\n",
       "year                                                              2011\n",
       "installment                                                          0\n",
       "passenger                                                          NaN\n",
       "leg_of_the_trip                                                    NaN\n",
       "batch_number                                                    513618\n",
       "reimbursement_number                                              3521\n",
       "reimbursement_value                                                NaN\n",
       "applicant_id                                                      1947\n",
       "situation_date                                              03/11/2005\n",
       "type                                                            MATRIZ\n",
       "name                                  RESTAURANTE SANTA GERTRUDES LTDA\n",
       "phone                                  (11) 2145-3333 / (11) 2145-3322\n",
       "situation                                                        ATIVA\n",
       "neighborhood                                         JARDIM PAULISTANO\n",
       "address                                       AV BRIGADEIRO FARIA LIMA\n",
       "number                                                            2954\n",
       "zip_code                                                    01.451-000\n",
       "city                                                         SAO PAULO\n",
       "state_y                                                             SP\n",
       "opening                                                     23/07/1976\n",
       "legal_entity                     206-2 - SOCIEDADE EMPRESARIA LIMITADA\n",
       "trade_name                                                         NaN\n",
       "cnpj                                                    47904495000147\n",
       "last_updated                                  2016-07-31T01:35:07.654Z\n",
       "status                                                              OK\n",
       "additional_address_details                                         NaN\n",
       "email                                       contadata@contadata.com.br\n",
       "responsible_federative_entity                                      NaN\n",
       "situation_reason                                                   NaN\n",
       "special_situation                                                  NaN\n",
       "special_situation_date                                             NaN\n",
       "message                                                            NaN\n",
       "main_activity_code                                          56.11-2-01\n",
       "main_activity                                 Restaurantes e similares\n",
       "latitude                                                      -23.5825\n",
       "longitude                                                     -46.6844\n",
       "Name: 22, dtype: object"
      ]
     },
     "metadata": {},
     "output_type": "display_data"
    },
    {
     "data": {
      "text/plain": [
       "Distance(870.3262768169413)"
      ]
     },
     "execution_count": 17,
     "metadata": {},
     "output_type": "execute_result"
    }
   ],
   "source": [
    "from geopy.distance import vincenty as distance\n",
    "from IPython.display import display\n",
    "\n",
    "x = data_with_geo.iloc[0]\n",
    "display(x)\n",
    "y = data_with_geo.iloc[20]\n",
    "display(y)\n",
    "distance(x[['latitude', 'longitude']],\n",
    "         y[['latitude', 'longitude']])"
   ]
  },
  {
   "cell_type": "code",
   "execution_count": 18,
   "metadata": {
    "collapsed": true
   },
   "outputs": [],
   "source": [
    "def coordinates_from_series(record):\n",
    "    return record['latitude'], record['longitude']\n",
    "\n",
    "coordinates = data_with_geo[['latitude', 'longitude']]. \\\n",
    "    apply(coordinates_from_series, axis=1)\n",
    "data_with_geo['coordinates'] = coordinates"
   ]
  },
  {
   "cell_type": "code",
   "execution_count": 19,
   "metadata": {
    "collapsed": false
   },
   "outputs": [
    {
     "data": {
      "text/plain": [
       "0    (-15.8044535, -47.8949176)\n",
       "1    (-23.6045463, -46.6569184)\n",
       "4    (-15.8414298, -47.8767513)\n",
       "5    (-15.8140514, -47.8480186)\n",
       "6     (-5.8112936, -35.2062356)\n",
       "Name: coordinates, dtype: object"
      ]
     },
     "execution_count": 19,
     "metadata": {},
     "output_type": "execute_result"
    }
   ],
   "source": [
    "data_with_geo['coordinates'].head()"
   ]
  },
  {
   "cell_type": "code",
   "execution_count": 20,
   "metadata": {
    "collapsed": false
   },
   "outputs": [],
   "source": [
    "is_in_brazil = (data_with_geo['longitude'] < -34.7916667) & \\\n",
    "    (data_with_geo['latitude'] < 5.2722222) & \\\n",
    "    (data_with_geo['latitude'] > -33.742222) & \\\n",
    "    (data_with_geo['longitude'] > -73.992222)\n",
    "data_with_geo = data_with_geo[is_in_brazil]"
   ]
  },
  {
   "cell_type": "code",
   "execution_count": 21,
   "metadata": {
    "collapsed": false
   },
   "outputs": [
    {
     "data": {
      "text/plain": [
       "document_id                                                              1986899\n",
       "congressperson_name                                                   JOSÉ ROCHA\n",
       "congressperson_id                                                          74554\n",
       "congressperson_document                                                      203\n",
       "term                                                                        2015\n",
       "state_x                                                                       BA\n",
       "party                                                                         PR\n",
       "term_id                                                                       55\n",
       "subquota_number                                                               13\n",
       "subquota_description                                         Congressperson meal\n",
       "subquota_group_id                                                              0\n",
       "subquota_group_description                                                   NaN\n",
       "supplier                                              FRANCISCO RESTAURANTE LTDA\n",
       "cnpj_cpf                                                          02703510000150\n",
       "document_number                                                           057468\n",
       "document_type                                                                  0\n",
       "issue_date                                                   2011-01-01 00:00:00\n",
       "document_value                                                               147\n",
       "remark_value                                                                   0\n",
       "net_value                                                                    147\n",
       "month                                                                          1\n",
       "year                                                                        2011\n",
       "installment                                                                    0\n",
       "passenger                                                                    NaN\n",
       "leg_of_the_trip                                                              NaN\n",
       "batch_number                                                              513139\n",
       "reimbursement_number                                                        3506\n",
       "reimbursement_value                                                          NaN\n",
       "applicant_id                                                                1071\n",
       "situation_date                                                        14/12/2002\n",
       "type                                                                      MATRIZ\n",
       "name                                            FRANCISCO RESTAURANTE LTDA - EPP\n",
       "phone                                                             (61) 3226-2626\n",
       "situation                                                                  ATIVA\n",
       "neighborhood                                                             ASA SUL\n",
       "address                          Q SHC/SUL CL QUADRA 402 BLOCO B LOJA 05, 09, 15\n",
       "number                                                                       S/N\n",
       "zip_code                                                              70.237-500\n",
       "city                                                                    BRASILIA\n",
       "state_y                                                                       DF\n",
       "opening                                                               27/06/1988\n",
       "legal_entity                               206-2 - SOCIEDADE EMPRESARIA LIMITADA\n",
       "trade_name                                                                   NaN\n",
       "cnpj                                                              02703510000150\n",
       "last_updated                                            2016-07-06T22:19:26.740Z\n",
       "status                                                                        OK\n",
       "additional_address_details                                                   NaN\n",
       "email                                                                        NaN\n",
       "responsible_federative_entity                                                NaN\n",
       "situation_reason                                                             NaN\n",
       "special_situation                                                            NaN\n",
       "special_situation_date                                                       NaN\n",
       "message                                                                      NaN\n",
       "main_activity_code                                                    56.11-2-01\n",
       "main_activity                                           Restaurantes e similares\n",
       "latitude                                                                -15.8045\n",
       "longitude                                                               -47.8949\n",
       "coordinates                                           (-15.8044535, -47.8949176)\n",
       "Name: 0, dtype: object"
      ]
     },
     "execution_count": 21,
     "metadata": {},
     "output_type": "execute_result"
    }
   ],
   "source": [
    "data_with_geo.head().iloc[0]"
   ]
  },
  {
   "cell_type": "code",
   "execution_count": 22,
   "metadata": {
    "collapsed": false
   },
   "outputs": [],
   "source": [
    "from itertools import tee\n",
    "\n",
    "def pairwise(iterable):\n",
    "    \"s -> (s0,s1), (s1,s2), (s2, s3), ...\"\n",
    "    a, b = tee(iterable)\n",
    "    next(b, None)\n",
    "    return zip(a, b)\n",
    "\n",
    "def distances(x):\n",
    "    distance_list = [distance(*coordinates_pair).km\n",
    "                     for coordinates_pair in pairwise(x)]\n",
    "    return np.nansum(distance_list)\n",
    "\n",
    "agg_data = data_with_geo.loc[data_with_geo['latitude'].notnull(),\n",
    "                             ['congressperson_name', 'issue_date', 'coordinates', 'net_value']]\n",
    "agg_data = agg_data.groupby(['congressperson_name', 'issue_date'])\n",
    "results = agg_data. \\\n",
    "    agg({'coordinates': distances,\n",
    "         'congressperson_name': len,\n",
    "         'net_value': np.sum}). \\\n",
    "    rename(columns={'coordinates': 'distance_traveled',\n",
    "                    'congressperson_name': 'count'})#. \\\n",
    "#     sort_values('distance_traveled', ascending=False). \\\n",
    "#     reset_index()"
   ]
  },
  {
   "cell_type": "code",
   "execution_count": 23,
   "metadata": {
    "collapsed": false,
    "scrolled": true
   },
   "outputs": [],
   "source": [
    "results = results[results['distance_traveled'] > 0]. \\\n",
    "    sort_values(['count', 'net_value'], ascending=False). \\\n",
    "    reset_index()"
   ]
  },
  {
   "cell_type": "code",
   "execution_count": 24,
   "metadata": {
    "collapsed": false
   },
   "outputs": [
    {
     "data": {
      "text/html": [
       "<div>\n",
       "<table border=\"1\" class=\"dataframe\">\n",
       "  <thead>\n",
       "    <tr style=\"text-align: right;\">\n",
       "      <th></th>\n",
       "      <th>congressperson_name</th>\n",
       "      <th>issue_date</th>\n",
       "      <th>distance_traveled</th>\n",
       "      <th>net_value</th>\n",
       "      <th>count</th>\n",
       "    </tr>\n",
       "  </thead>\n",
       "  <tbody>\n",
       "    <tr>\n",
       "      <th>0</th>\n",
       "      <td>CELSO MALDANER</td>\n",
       "      <td>2011-09-05</td>\n",
       "      <td>2685.922852</td>\n",
       "      <td>750.28</td>\n",
       "      <td>13</td>\n",
       "    </tr>\n",
       "    <tr>\n",
       "      <th>1</th>\n",
       "      <td>MAGDA MOFATTO</td>\n",
       "      <td>2015-03-15</td>\n",
       "      <td>460.259677</td>\n",
       "      <td>435.63</td>\n",
       "      <td>9</td>\n",
       "    </tr>\n",
       "    <tr>\n",
       "      <th>2</th>\n",
       "      <td>TAKAYAMA</td>\n",
       "      <td>2014-06-20</td>\n",
       "      <td>1194.882582</td>\n",
       "      <td>462.82</td>\n",
       "      <td>8</td>\n",
       "    </tr>\n",
       "    <tr>\n",
       "      <th>3</th>\n",
       "      <td>VICENTINHO</td>\n",
       "      <td>2013-06-11</td>\n",
       "      <td>5.939521</td>\n",
       "      <td>309.95</td>\n",
       "      <td>8</td>\n",
       "    </tr>\n",
       "    <tr>\n",
       "      <th>4</th>\n",
       "      <td>JORGE SOLLA</td>\n",
       "      <td>2015-08-07</td>\n",
       "      <td>35.953409</td>\n",
       "      <td>267.43</td>\n",
       "      <td>8</td>\n",
       "    </tr>\n",
       "  </tbody>\n",
       "</table>\n",
       "</div>"
      ],
      "text/plain": [
       "  congressperson_name issue_date  distance_traveled  net_value  count\n",
       "0      CELSO MALDANER 2011-09-05        2685.922852     750.28     13\n",
       "1       MAGDA MOFATTO 2015-03-15         460.259677     435.63      9\n",
       "2            TAKAYAMA 2014-06-20        1194.882582     462.82      8\n",
       "3          VICENTINHO 2013-06-11           5.939521     309.95      8\n",
       "4         JORGE SOLLA 2015-08-07          35.953409     267.43      8"
      ]
     },
     "execution_count": 24,
     "metadata": {},
     "output_type": "execute_result"
    }
   ],
   "source": [
    "results.head()"
   ]
  },
  {
   "cell_type": "code",
   "execution_count": 25,
   "metadata": {
    "collapsed": false
   },
   "outputs": [
    {
     "data": {
      "text/plain": [
       "<seaborn.axisgrid.FacetGrid at 0x1151b60f0>"
      ]
     },
     "execution_count": 25,
     "metadata": {},
     "output_type": "execute_result"
    },
    {
     "data": {
      "image/png": "[encoded data removed]",
      "text/plain": [
       "<matplotlib.figure.Figure at 0x1151b6c50>"
      ]
     },
     "metadata": {},
     "output_type": "display_data"
    }
   ],
   "source": [
    "sns.lmplot('count', 'distance_traveled',\n",
    "           data=results,\n",
    "           fit_reg=False,\n",
    "           scatter_kws={\"marker\": \"D\", \n",
    "                        \"s\": 100})"
   ]
  },
  {
   "cell_type": "code",
   "execution_count": 26,
   "metadata": {
    "collapsed": false
   },
   "outputs": [
    {
     "data": {
      "text/plain": [
       "array(['ROGÉRIO PENINHA MENDONÇA', 'JOÃO CASTELO', 'MAJOR OLIMPIO',\n",
       "       'ASSIS CARVALHO', 'IRAJÁ ABREU', 'ARNALDO JORDY', 'JOSÉ NUNES',\n",
       "       'MARA GABRILLI', 'PASTOR EURICO', 'EDINHO BEZ'], dtype=object)"
      ]
     },
     "execution_count": 26,
     "metadata": {},
     "output_type": "execute_result"
    }
   ],
   "source": [
    "results[results['net_value'] > 800]['congressperson_name'].unique()"
   ]
  },
  {
   "cell_type": "code",
   "execution_count": 27,
   "metadata": {
    "collapsed": false
   },
   "outputs": [
    {
     "data": {
      "text/plain": [
       "3"
      ]
     },
     "execution_count": 27,
     "metadata": {},
     "output_type": "execute_result"
    }
   ],
   "source": [
    "predicate = (data_with_geo['congressperson_name'] == 'JOÃO CASTELO') & \\\n",
    "    (data_with_geo['issue_date'] == '2015-05-06')\n",
    "records = data_with_geo[predicate]\n",
    "len(records)"
   ]
  },
  {
   "cell_type": "code",
   "execution_count": 28,
   "metadata": {
    "collapsed": false
   },
   "outputs": [
    {
     "name": "stdout",
     "output_type": "stream",
     "text": [
      "http://www.camara.gov.br/cota-parlamentar/documentos/publ/1299/2015/5682228.pdf\n"
     ]
    },
    {
     "data": {
      "text/plain": [
       "document_id                                                                5682228\n",
       "congressperson_name                                                   JOÃO CASTELO\n",
       "congressperson_id                                                            74445\n",
       "congressperson_document                                                         75\n",
       "term                                                                          2015\n",
       "state_x                                                                         MA\n",
       "party                                                                         PSDB\n",
       "term_id                                                                         55\n",
       "subquota_number                                                                 13\n",
       "subquota_description                                           Congressperson meal\n",
       "subquota_group_id                                                                0\n",
       "subquota_group_description                                                     NaN\n",
       "supplier                           SENAC - COMP. ADM. CAM. DEP. ANEXO IV 10º ANDAR\n",
       "cnpj_cpf                                                            33469172001644\n",
       "document_number                                                             051568\n",
       "document_type                                                                    0\n",
       "issue_date                                                     2015-05-06 00:00:00\n",
       "document_value                                                               95.26\n",
       "remark_value                                                                     0\n",
       "net_value                                                                    95.26\n",
       "month                                                                            5\n",
       "year                                                                          2015\n",
       "installment                                                                      0\n",
       "passenger                                                                      NaN\n",
       "leg_of_the_trip                                                                NaN\n",
       "batch_number                                                               1191991\n",
       "reimbursement_number                                                          5037\n",
       "reimbursement_value                                                            NaN\n",
       "applicant_id                                                                  1299\n",
       "situation_date                                                          13/04/2009\n",
       "type                                                                        FILIAL\n",
       "name                              SERVICO NACIONAL DE APRENDIZAGEM COMERCIAL SENAC\n",
       "phone                                              (21) 2136-5693 / (61) 3245-2134\n",
       "situation                                                                    ATIVA\n",
       "neighborhood                                            ZONA CIVICO-ADMINISTRATIVA\n",
       "address                                   PC DOS TRES PODERES CAMERA DOS DEPUTADOS\n",
       "number                                                                         S/N\n",
       "zip_code                                                                70.160-900\n",
       "city                                                                      BRASILIA\n",
       "state_y                                                                         DF\n",
       "opening                                                                 13/04/2009\n",
       "legal_entity                                       307-7 - SERVICO SOCIAL AUTONOMO\n",
       "trade_name                                 SENAC GASTRONOMIA - 10 ANDAR - ANEXO IV\n",
       "cnpj                                                                33469172001644\n",
       "last_updated                                              2016-07-22T03:51:03.084Z\n",
       "status                                                                          OK\n",
       "additional_address_details                     ANEXO IV PARTE RESTAURANTE 10 ANDAR\n",
       "email                                                           abalmeida@senac.br\n",
       "responsible_federative_entity                                                  NaN\n",
       "situation_reason                                                               NaN\n",
       "special_situation                                                              NaN\n",
       "special_situation_date                                                         NaN\n",
       "message                                                                        NaN\n",
       "main_activity_code                                                      85.99-6-99\n",
       "main_activity                    Outras atividades de ensino não especificadas ...\n",
       "latitude                                                                  -15.7843\n",
       "longitude                                                                 -47.9133\n",
       "coordinates                                             (-15.7843468, -47.9132763)\n",
       "Name: 66188, dtype: object"
      ]
     },
     "execution_count": 28,
     "metadata": {},
     "output_type": "execute_result"
    }
   ],
   "source": [
    "x = records.iloc[0]\n",
    "print(document_url(x))\n",
    "x"
   ]
  },
  {
   "cell_type": "code",
   "execution_count": 29,
   "metadata": {
    "collapsed": false
   },
   "outputs": [
    {
     "name": "stdout",
     "output_type": "stream",
     "text": [
      "http://www.camara.gov.br/cota-parlamentar/documentos/publ/1299/2015/5675287.pdf\n"
     ]
    },
    {
     "data": {
      "text/plain": [
       "document_id                                                                5675287\n",
       "congressperson_name                                                   JOÃO CASTELO\n",
       "congressperson_id                                                            74445\n",
       "congressperson_document                                                         75\n",
       "term                                                                          2015\n",
       "state_x                                                                         MA\n",
       "party                                                                         PSDB\n",
       "term_id                                                                         55\n",
       "subquota_number                                                                 13\n",
       "subquota_description                                           Congressperson meal\n",
       "subquota_group_id                                                                0\n",
       "subquota_group_description                                                     NaN\n",
       "supplier                           SENAC - COMP. ADM. CAM. DEP. ANEXO IV 10º ANDAR\n",
       "cnpj_cpf                                                            33469172001644\n",
       "document_number                                                             051567\n",
       "document_type                                                                    0\n",
       "issue_date                                                     2015-05-06 00:00:00\n",
       "document_value                                                               56.93\n",
       "remark_value                                                                     0\n",
       "net_value                                                                    56.93\n",
       "month                                                                            5\n",
       "year                                                                          2015\n",
       "installment                                                                      0\n",
       "passenger                                                                      NaN\n",
       "leg_of_the_trip                                                                NaN\n",
       "batch_number                                                               1189568\n",
       "reimbursement_number                                                          5030\n",
       "reimbursement_value                                                            NaN\n",
       "applicant_id                                                                  1299\n",
       "situation_date                                                          13/04/2009\n",
       "type                                                                        FILIAL\n",
       "name                              SERVICO NACIONAL DE APRENDIZAGEM COMERCIAL SENAC\n",
       "phone                                              (21) 2136-5693 / (61) 3245-2134\n",
       "situation                                                                    ATIVA\n",
       "neighborhood                                            ZONA CIVICO-ADMINISTRATIVA\n",
       "address                                   PC DOS TRES PODERES CAMERA DOS DEPUTADOS\n",
       "number                                                                         S/N\n",
       "zip_code                                                                70.160-900\n",
       "city                                                                      BRASILIA\n",
       "state_y                                                                         DF\n",
       "opening                                                                 13/04/2009\n",
       "legal_entity                                       307-7 - SERVICO SOCIAL AUTONOMO\n",
       "trade_name                                 SENAC GASTRONOMIA - 10 ANDAR - ANEXO IV\n",
       "cnpj                                                                33469172001644\n",
       "last_updated                                              2016-07-22T03:51:03.084Z\n",
       "status                                                                          OK\n",
       "additional_address_details                     ANEXO IV PARTE RESTAURANTE 10 ANDAR\n",
       "email                                                           abalmeida@senac.br\n",
       "responsible_federative_entity                                                  NaN\n",
       "situation_reason                                                               NaN\n",
       "special_situation                                                              NaN\n",
       "special_situation_date                                                         NaN\n",
       "message                                                                        NaN\n",
       "main_activity_code                                                      85.99-6-99\n",
       "main_activity                    Outras atividades de ensino não especificadas ...\n",
       "latitude                                                                  -15.7843\n",
       "longitude                                                                 -47.9133\n",
       "coordinates                                             (-15.7843468, -47.9132763)\n",
       "Name: 66194, dtype: object"
      ]
     },
     "execution_count": 29,
     "metadata": {},
     "output_type": "execute_result"
    }
   ],
   "source": [
    "x = records.iloc[1]\n",
    "print(document_url(x))\n",
    "x"
   ]
  },
  {
   "cell_type": "code",
   "execution_count": 30,
   "metadata": {
    "collapsed": false
   },
   "outputs": [
    {
     "name": "stdout",
     "output_type": "stream",
     "text": [
      "http://www.camara.gov.br/cota-parlamentar/documentos/publ/1299/2015/5676786.pdf\n"
     ]
    },
    {
     "data": {
      "text/plain": [
       "document_id                                                    5676786\n",
       "congressperson_name                                       JOÃO CASTELO\n",
       "congressperson_id                                                74445\n",
       "congressperson_document                                             75\n",
       "term                                                              2015\n",
       "state_x                                                             MA\n",
       "party                                                             PSDB\n",
       "term_id                                                             55\n",
       "subquota_number                                                     13\n",
       "subquota_description                               Congressperson meal\n",
       "subquota_group_id                                                    0\n",
       "subquota_group_description                                         NaN\n",
       "supplier                           PAULO OCTAVIO HOTEIS E TURISMO LTDA\n",
       "cnpj_cpf                                                26418749000147\n",
       "document_number                                                  86038\n",
       "document_type                                                        0\n",
       "issue_date                                         2015-05-06 00:00:00\n",
       "document_value                                                  1603.2\n",
       "remark_value                                                         0\n",
       "net_value                                                       1603.2\n",
       "month                                                                5\n",
       "year                                                              2015\n",
       "installment                                                          0\n",
       "passenger                                                          NaN\n",
       "leg_of_the_trip                                                    NaN\n",
       "batch_number                                                   1190116\n",
       "reimbursement_number                                              5032\n",
       "reimbursement_value                                                NaN\n",
       "applicant_id                                                      1299\n",
       "situation_date                                              03/11/2005\n",
       "type                                                            MATRIZ\n",
       "name                               PAULO OCTAVIO HOTEIS E TURISMO LTDA\n",
       "phone                                                              NaN\n",
       "situation                                                        ATIVA\n",
       "neighborhood                                                 ASA NORTE\n",
       "address                                          SHN QUADRA 02 BLOCO E\n",
       "number                                                              SN\n",
       "zip_code                                                    70.310-500\n",
       "city                                                          BRASILIA\n",
       "state_y                                                             DF\n",
       "opening                                                     06/04/1990\n",
       "legal_entity                     206-2 - SOCIEDADE EMPRESARIA LIMITADA\n",
       "trade_name                                            KUBITSCHEK PLAZA\n",
       "cnpj                                                    26418749000147\n",
       "last_updated                                  2016-08-01T22:03:45.280Z\n",
       "status                                                              OK\n",
       "additional_address_details                                         NaN\n",
       "email                                                              NaN\n",
       "responsible_federative_entity                                      NaN\n",
       "situation_reason                                                   NaN\n",
       "special_situation                                                  NaN\n",
       "special_situation_date                                             NaN\n",
       "message                                                            NaN\n",
       "main_activity_code                                          55.10-8-01\n",
       "main_activity                                                   Hotéis\n",
       "latitude                                                      -15.7663\n",
       "longitude                                                     -47.8829\n",
       "coordinates                                 (-15.7662824, -47.8829416)\n",
       "Name: 66218, dtype: object"
      ]
     },
     "execution_count": 30,
     "metadata": {},
     "output_type": "execute_result"
    }
   ],
   "source": [
    "x = records.iloc[2]\n",
    "print(document_url(x))\n",
    "x"
   ]
  },
  {
   "cell_type": "code",
   "execution_count": 31,
   "metadata": {
    "collapsed": false
   },
   "outputs": [
    {
     "data": {
      "text/plain": [
       "3"
      ]
     },
     "execution_count": 31,
     "metadata": {},
     "output_type": "execute_result"
    }
   ],
   "source": [
    "predicate = (data_with_geo['congressperson_name'] == 'MAJOR OLIMPIO') & \\\n",
    "    (data_with_geo['issue_date'] == '2015-11-09')\n",
    "records = data_with_geo[predicate]\n",
    "len(records)"
   ]
  },
  {
   "cell_type": "code",
   "execution_count": 32,
   "metadata": {
    "collapsed": false
   },
   "outputs": [
    {
     "name": "stdout",
     "output_type": "stream",
     "text": [
      "http://www.camara.gov.br/cota-parlamentar/documentos/publ/2935/2015/5840725.pdf\n"
     ]
    },
    {
     "data": {
      "text/plain": [
       "document_id                                                                5840725\n",
       "congressperson_name                                                  MAJOR OLIMPIO\n",
       "congressperson_id                                                           178826\n",
       "congressperson_document                                                        368\n",
       "term                                                                          2015\n",
       "state_x                                                                         SP\n",
       "party                                                                           SD\n",
       "term_id                                                                         55\n",
       "subquota_number                                                                 13\n",
       "subquota_description                                           Congressperson meal\n",
       "subquota_group_id                                                                0\n",
       "subquota_group_description                                                     NaN\n",
       "supplier                         SENAC - SERVIÇO NACIONAL DE APRENDIZAGEM COMER...\n",
       "cnpj_cpf                                                            33469172001644\n",
       "document_number                                                             072310\n",
       "document_type                                                                    0\n",
       "issue_date                                                     2015-11-09 00:00:00\n",
       "document_value                                                               52.83\n",
       "remark_value                                                                     0\n",
       "net_value                                                                    52.83\n",
       "month                                                                           11\n",
       "year                                                                          2015\n",
       "installment                                                                      0\n",
       "passenger                                                                      NaN\n",
       "leg_of_the_trip                                                                NaN\n",
       "batch_number                                                               1240998\n",
       "reimbursement_number                                                          5220\n",
       "reimbursement_value                                                            NaN\n",
       "applicant_id                                                                  2935\n",
       "situation_date                                                          13/04/2009\n",
       "type                                                                        FILIAL\n",
       "name                              SERVICO NACIONAL DE APRENDIZAGEM COMERCIAL SENAC\n",
       "phone                                              (21) 2136-5693 / (61) 3245-2134\n",
       "situation                                                                    ATIVA\n",
       "neighborhood                                            ZONA CIVICO-ADMINISTRATIVA\n",
       "address                                   PC DOS TRES PODERES CAMERA DOS DEPUTADOS\n",
       "number                                                                         S/N\n",
       "zip_code                                                                70.160-900\n",
       "city                                                                      BRASILIA\n",
       "state_y                                                                         DF\n",
       "opening                                                                 13/04/2009\n",
       "legal_entity                                       307-7 - SERVICO SOCIAL AUTONOMO\n",
       "trade_name                                 SENAC GASTRONOMIA - 10 ANDAR - ANEXO IV\n",
       "cnpj                                                                33469172001644\n",
       "last_updated                                              2016-07-22T03:51:03.084Z\n",
       "status                                                                          OK\n",
       "additional_address_details                     ANEXO IV PARTE RESTAURANTE 10 ANDAR\n",
       "email                                                           abalmeida@senac.br\n",
       "responsible_federative_entity                                                  NaN\n",
       "situation_reason                                                               NaN\n",
       "special_situation                                                              NaN\n",
       "special_situation_date                                                         NaN\n",
       "message                                                                        NaN\n",
       "main_activity_code                                                      85.99-6-99\n",
       "main_activity                    Outras atividades de ensino não especificadas ...\n",
       "latitude                                                                  -15.7843\n",
       "longitude                                                                 -47.9133\n",
       "coordinates                                             (-15.7843468, -47.9132763)\n",
       "Name: 83011, dtype: object"
      ]
     },
     "execution_count": 32,
     "metadata": {},
     "output_type": "execute_result"
    }
   ],
   "source": [
    "x = records.iloc[0]\n",
    "print(document_url(x))\n",
    "x"
   ]
  },
  {
   "cell_type": "code",
   "execution_count": 33,
   "metadata": {
    "collapsed": false
   },
   "outputs": [
    {
     "name": "stdout",
     "output_type": "stream",
     "text": [
      "http://www.camara.gov.br/cota-parlamentar/documentos/publ/2935/2015/5847853.pdf\n"
     ]
    },
    {
     "data": {
      "text/plain": [
       "document_id                                                    5847853\n",
       "congressperson_name                                      MAJOR OLIMPIO\n",
       "congressperson_id                                               178826\n",
       "congressperson_document                                            368\n",
       "term                                                              2015\n",
       "state_x                                                             SP\n",
       "party                                                               SD\n",
       "term_id                                                             55\n",
       "subquota_number                                                     13\n",
       "subquota_description                               Congressperson meal\n",
       "subquota_group_id                                                    0\n",
       "subquota_group_description                                         NaN\n",
       "supplier                                GOLDEN TULIP BRASILIA ALVORADA\n",
       "cnpj_cpf                                                09109567001732\n",
       "document_number                                                 248785\n",
       "document_type                                                        0\n",
       "issue_date                                         2015-11-09 00:00:00\n",
       "document_value                                                  1170.5\n",
       "remark_value                                                         0\n",
       "net_value                                                       1170.5\n",
       "month                                                               10\n",
       "year                                                              2015\n",
       "installment                                                          0\n",
       "passenger                                                          NaN\n",
       "leg_of_the_trip                                                    NaN\n",
       "batch_number                                                   1243321\n",
       "reimbursement_number                                              5233\n",
       "reimbursement_value                                                NaN\n",
       "applicant_id                                                      2935\n",
       "situation_date                                              24/06/2009\n",
       "type                                                            FILIAL\n",
       "name                                 LA HOTELS EMPREENDIMENTOS 1 LTDA.\n",
       "phone                                                   (61) 3381-6090\n",
       "situation                                                        ATIVA\n",
       "neighborhood                                                 ASA NORTE\n",
       "address                                          Q SHT/NORTE TRECHO 01\n",
       "number                                                             S/N\n",
       "zip_code                                                    70.800-200\n",
       "city                                                          BRASILIA\n",
       "state_y                                                             DF\n",
       "opening                                                     24/06/2009\n",
       "legal_entity                     206-2 - SOCIEDADE EMPRESARIA LIMITADA\n",
       "trade_name                                       GOLDEN TULIP BRASILIA\n",
       "cnpj                                                    09109567001732\n",
       "last_updated                                  2016-07-07T04:46:41.820Z\n",
       "status                                                              OK\n",
       "additional_address_details                             CONJ 1B BLOCO A\n",
       "email                                        cfcontabil@cfcontabil.com\n",
       "responsible_federative_entity                                      NaN\n",
       "situation_reason                                                   NaN\n",
       "special_situation                                                  NaN\n",
       "special_situation_date                                             NaN\n",
       "message                                                            NaN\n",
       "main_activity_code                                          55.10-8-02\n",
       "main_activity                                             Apart-hotéis\n",
       "latitude                                                      -15.7663\n",
       "longitude                                                     -47.8829\n",
       "coordinates                                 (-15.7662824, -47.8829416)\n",
       "Name: 83022, dtype: object"
      ]
     },
     "execution_count": 33,
     "metadata": {},
     "output_type": "execute_result"
    }
   ],
   "source": [
    "x = records.iloc[1]\n",
    "print(document_url(x))\n",
    "x"
   ]
  },
  {
   "cell_type": "code",
   "execution_count": 34,
   "metadata": {
    "collapsed": false
   },
   "outputs": [
    {
     "name": "stdout",
     "output_type": "stream",
     "text": [
      "http://www.camara.gov.br/cota-parlamentar/documentos/publ/2935/2015/5841002.pdf\n"
     ]
    },
    {
     "data": {
      "text/plain": [
       "document_id                                                    5841002\n",
       "congressperson_name                                      MAJOR OLIMPIO\n",
       "congressperson_id                                               178826\n",
       "congressperson_document                                            368\n",
       "term                                                              2015\n",
       "state_x                                                             SP\n",
       "party                                                               SD\n",
       "term_id                                                             55\n",
       "subquota_number                                                     13\n",
       "subquota_description                               Congressperson meal\n",
       "subquota_group_id                                                    0\n",
       "subquota_group_description                                         NaN\n",
       "supplier                             BIER FASS RESTAURANTE MUSEU LTDA.\n",
       "cnpj_cpf                                                05033214000188\n",
       "document_number                                                  84757\n",
       "document_type                                                        0\n",
       "issue_date                                         2015-11-09 00:00:00\n",
       "document_value                                                   93.99\n",
       "remark_value                                                         0\n",
       "net_value                                                        93.99\n",
       "month                                                               11\n",
       "year                                                              2015\n",
       "installment                                                          0\n",
       "passenger                                                          NaN\n",
       "leg_of_the_trip                                                    NaN\n",
       "batch_number                                                   1241206\n",
       "reimbursement_number                                              5220\n",
       "reimbursement_value                                                NaN\n",
       "applicant_id                                                      2935\n",
       "situation_date                                              03/11/2005\n",
       "type                                                            MATRIZ\n",
       "name                                 BIER FASS RESTAURANTE MUSEU LTDA.\n",
       "phone                                                    (61) 3615-300\n",
       "situation                                                        ATIVA\n",
       "neighborhood                                                  LAGO SUL\n",
       "address                                             SHI/SUL QL 10 LOTE\n",
       "number                                                              09\n",
       "zip_code                                                    71.680-603\n",
       "city                                                          BRASILIA\n",
       "state_y                                                             DF\n",
       "opening                                                     09/04/2002\n",
       "legal_entity                     206-2 - SOCIEDADE EMPRESARIA LIMITADA\n",
       "trade_name                                                         NaN\n",
       "cnpj                                                    05033214000188\n",
       "last_updated                                  2016-08-17T03:14:15.990Z\n",
       "status                                                              OK\n",
       "additional_address_details                          PONTAO DO LAGO SUL\n",
       "email                                    contabilidade@transnil.com.br\n",
       "responsible_federative_entity                                      NaN\n",
       "situation_reason                                                   NaN\n",
       "special_situation                                                  NaN\n",
       "special_situation_date                                             NaN\n",
       "message                                                            NaN\n",
       "main_activity_code                                          56.11-2-01\n",
       "main_activity                                 Restaurantes e similares\n",
       "latitude                                                      -15.8324\n",
       "longitude                                                     -47.8789\n",
       "coordinates                                 (-15.8324109, -47.8788559)\n",
       "Name: 83025, dtype: object"
      ]
     },
     "execution_count": 34,
     "metadata": {},
     "output_type": "execute_result"
    }
   ],
   "source": [
    "x = records.iloc[2]\n",
    "print(document_url(x))\n",
    "x"
   ]
  },
  {
   "cell_type": "code",
   "execution_count": 35,
   "metadata": {
    "collapsed": false
   },
   "outputs": [
    {
     "data": {
      "text/plain": [
       "document_id                                          5847853\n",
       "congressperson_name                            MAJOR OLIMPIO\n",
       "congressperson_id                                     178826\n",
       "congressperson_document                                  368\n",
       "term                                                    2015\n",
       "state                                                     SP\n",
       "party                                                     SD\n",
       "term_id                                                   55\n",
       "subquota_number                                           13\n",
       "subquota_description                     Congressperson meal\n",
       "subquota_group_id                                          0\n",
       "subquota_group_description                               NaN\n",
       "supplier                      GOLDEN TULIP BRASILIA ALVORADA\n",
       "cnpj_cpf                                      09109567001732\n",
       "document_number                                       248785\n",
       "document_type                                              0\n",
       "issue_date                               2015-11-09 00:00:00\n",
       "document_value                                        1170.5\n",
       "remark_value                                               0\n",
       "net_value                                             1170.5\n",
       "month                                                     10\n",
       "year                                                    2015\n",
       "installment                                                0\n",
       "passenger                                                NaN\n",
       "leg_of_the_trip                                          NaN\n",
       "batch_number                                         1243321\n",
       "reimbursement_number                                    5233\n",
       "reimbursement_value                                      NaN\n",
       "applicant_id                                            2935\n",
       "Name: 225266, dtype: object"
      ]
     },
     "execution_count": 35,
     "metadata": {},
     "output_type": "execute_result"
    }
   ],
   "source": [
    "d = read_csv()\n",
    "d[d['document_id'] == '5847853'].iloc[0]"
   ]
  },
  {
   "cell_type": "code",
   "execution_count": 36,
   "metadata": {
    "collapsed": false
   },
   "outputs": [
    {
     "data": {
      "text/plain": [
       "2"
      ]
     },
     "execution_count": 36,
     "metadata": {},
     "output_type": "execute_result"
    }
   ],
   "source": [
    "predicate = (data_with_geo['congressperson_name'] == 'JOSÉ NUNES') & \\\n",
    "    (data_with_geo['issue_date'] == '2015-06-09')\n",
    "records = data_with_geo[predicate]\n",
    "len(records)"
   ]
  },
  {
   "cell_type": "code",
   "execution_count": 37,
   "metadata": {
    "collapsed": false
   },
   "outputs": [
    {
     "name": "stdout",
     "output_type": "stream",
     "text": [
      "http://www.camara.gov.br/cota-parlamentar/documentos/publ/2348/2015/5711897.pdf\n"
     ]
    },
    {
     "data": {
      "text/plain": [
       "document_id                                                                5711897\n",
       "congressperson_name                                                     JOSÉ NUNES\n",
       "congressperson_id                                                           160619\n",
       "congressperson_document                                                        201\n",
       "term                                                                          2015\n",
       "state_x                                                                         BA\n",
       "party                                                                          PSD\n",
       "term_id                                                                         55\n",
       "subquota_number                                                                 13\n",
       "subquota_description                                           Congressperson meal\n",
       "subquota_group_id                                                                0\n",
       "subquota_group_description                                                     NaN\n",
       "supplier                                                         KG ALIMENTOS LTDA\n",
       "cnpj_cpf                                                            09260767000124\n",
       "document_number                                                             230942\n",
       "document_type                                                                    0\n",
       "issue_date                                                     2015-06-09 00:00:00\n",
       "document_value                                                               51.22\n",
       "remark_value                                                                     0\n",
       "net_value                                                                    51.22\n",
       "month                                                                            6\n",
       "year                                                                          2015\n",
       "installment                                                                      0\n",
       "passenger                                                                      NaN\n",
       "leg_of_the_trip                                                                NaN\n",
       "batch_number                                                               1201675\n",
       "reimbursement_number                                                          5064\n",
       "reimbursement_value                                                            NaN\n",
       "applicant_id                                                                  2348\n",
       "situation_date                                                          10/12/2007\n",
       "type                                                                        MATRIZ\n",
       "name                                                        KG ALIMENTOS LTDA - ME\n",
       "phone                                              (71) 3555-6444 / (71) 3555-6443\n",
       "situation                                                                    ATIVA\n",
       "neighborhood                                                          ALPHAVILLE I\n",
       "address                                                              AV LUIS VIANA\n",
       "number                                                                        8544\n",
       "zip_code                                                                41.701-005\n",
       "city                                                                      SALVADOR\n",
       "state_y                                                                         BA\n",
       "opening                                                                 10/12/2007\n",
       "legal_entity                                 206-2 - SOCIEDADE EMPRESARIA LIMITADA\n",
       "trade_name                                                BOSI GASTRONOMIA A QUILO\n",
       "cnpj                                                                09260767000124\n",
       "last_updated                                              2016-08-19T05:11:55.208Z\n",
       "status                                                                          OK\n",
       "additional_address_details       SHOPPING PARALELA LOJA 209, 210 E 211 QUADRAG ...\n",
       "email                                                   contacssa@contacssa.com.br\n",
       "responsible_federative_entity                                                  NaN\n",
       "situation_reason                                                               NaN\n",
       "special_situation                                                              NaN\n",
       "special_situation_date                                                         NaN\n",
       "message                                                                        NaN\n",
       "main_activity_code                                                      56.11-2-01\n",
       "main_activity                                             Restaurantes e similares\n",
       "latitude                                                                  -12.9362\n",
       "longitude                                                                 -38.3952\n",
       "coordinates                                             (-12.9362333, -38.3952175)\n",
       "Name: 69573, dtype: object"
      ]
     },
     "execution_count": 37,
     "metadata": {},
     "output_type": "execute_result"
    }
   ],
   "source": [
    "x = records.iloc[0]\n",
    "print(document_url(x))\n",
    "x"
   ]
  },
  {
   "cell_type": "code",
   "execution_count": 38,
   "metadata": {
    "collapsed": false
   },
   "outputs": [
    {
     "name": "stdout",
     "output_type": "stream",
     "text": [
      "http://www.camara.gov.br/cota-parlamentar/documentos/publ/2348/2015/5725072.pdf\n"
     ]
    },
    {
     "data": {
      "text/plain": [
       "document_id                                                    5725072\n",
       "congressperson_name                                         JOSÉ NUNES\n",
       "congressperson_id                                               160619\n",
       "congressperson_document                                            201\n",
       "term                                                              2015\n",
       "state_x                                                             BA\n",
       "party                                                              PSD\n",
       "term_id                                                             55\n",
       "subquota_number                                                     13\n",
       "subquota_description                               Congressperson meal\n",
       "subquota_group_id                                                    0\n",
       "subquota_group_description                                         NaN\n",
       "supplier                                GOLDEN TULIP BRASILIA ALVORADA\n",
       "cnpj_cpf                                                09109567001732\n",
       "document_number                                                 236799\n",
       "document_type                                                        0\n",
       "issue_date                                         2015-06-09 00:00:00\n",
       "document_value                                                 1299.01\n",
       "remark_value                                                     92.69\n",
       "net_value                                                      1206.32\n",
       "month                                                                6\n",
       "year                                                              2015\n",
       "installment                                                          0\n",
       "passenger                                                          NaN\n",
       "leg_of_the_trip                                                    NaN\n",
       "batch_number                                                   1205607\n",
       "reimbursement_number                                              5081\n",
       "reimbursement_value                                                NaN\n",
       "applicant_id                                                      2348\n",
       "situation_date                                              24/06/2009\n",
       "type                                                            FILIAL\n",
       "name                                 LA HOTELS EMPREENDIMENTOS 1 LTDA.\n",
       "phone                                                   (61) 3381-6090\n",
       "situation                                                        ATIVA\n",
       "neighborhood                                                 ASA NORTE\n",
       "address                                          Q SHT/NORTE TRECHO 01\n",
       "number                                                             S/N\n",
       "zip_code                                                    70.800-200\n",
       "city                                                          BRASILIA\n",
       "state_y                                                             DF\n",
       "opening                                                     24/06/2009\n",
       "legal_entity                     206-2 - SOCIEDADE EMPRESARIA LIMITADA\n",
       "trade_name                                       GOLDEN TULIP BRASILIA\n",
       "cnpj                                                    09109567001732\n",
       "last_updated                                  2016-07-07T04:46:41.820Z\n",
       "status                                                              OK\n",
       "additional_address_details                             CONJ 1B BLOCO A\n",
       "email                                        cfcontabil@cfcontabil.com\n",
       "responsible_federative_entity                                      NaN\n",
       "situation_reason                                                   NaN\n",
       "special_situation                                                  NaN\n",
       "special_situation_date                                             NaN\n",
       "message                                                            NaN\n",
       "main_activity_code                                          55.10-8-02\n",
       "main_activity                                             Apart-hotéis\n",
       "latitude                                                      -15.7663\n",
       "longitude                                                     -47.8829\n",
       "coordinates                                 (-15.7662824, -47.8829416)\n",
       "Name: 69583, dtype: object"
      ]
     },
     "execution_count": 38,
     "metadata": {},
     "output_type": "execute_result"
    }
   ],
   "source": [
    "x = records.iloc[1]\n",
    "print(document_url(x))\n",
    "x"
   ]
  },
  {
   "cell_type": "code",
   "execution_count": 39,
   "metadata": {
    "collapsed": false
   },
   "outputs": [
    {
     "data": {
      "text/plain": [
       "2"
      ]
     },
     "execution_count": 39,
     "metadata": {},
     "output_type": "execute_result"
    }
   ],
   "source": [
    "predicate = (data_with_geo['congressperson_name'] == 'JOSÉ NUNES') & \\\n",
    "    (data_with_geo['issue_date'] == '2015-09-03')\n",
    "records = data_with_geo[predicate]\n",
    "len(records)"
   ]
  },
  {
   "cell_type": "code",
   "execution_count": 40,
   "metadata": {
    "collapsed": false
   },
   "outputs": [
    {
     "name": "stdout",
     "output_type": "stream",
     "text": [
      "http://www.camara.gov.br/cota-parlamentar/documentos/publ/2348/2015/5786890.pdf\n"
     ]
    },
    {
     "data": {
      "text/plain": [
       "document_id                                                    5786890\n",
       "congressperson_name                                         JOSÉ NUNES\n",
       "congressperson_id                                               160619\n",
       "congressperson_document                                            201\n",
       "term                                                              2015\n",
       "state_x                                                             BA\n",
       "party                                                              PSD\n",
       "term_id                                                             55\n",
       "subquota_number                                                     13\n",
       "subquota_description                               Congressperson meal\n",
       "subquota_group_id                                                    0\n",
       "subquota_group_description                                         NaN\n",
       "supplier                                GOLDEN TULIP BRASILIA ALVORADA\n",
       "cnpj_cpf                                                09109567001732\n",
       "document_number                                                 242821\n",
       "document_type                                                        0\n",
       "issue_date                                         2015-09-03 00:00:00\n",
       "document_value                                                 1313.16\n",
       "remark_value                                                    245.47\n",
       "net_value                                                      1067.69\n",
       "month                                                                9\n",
       "year                                                              2015\n",
       "installment                                                          0\n",
       "passenger                                                          NaN\n",
       "leg_of_the_trip                                                    NaN\n",
       "batch_number                                                   1228564\n",
       "reimbursement_number                                              5174\n",
       "reimbursement_value                                                NaN\n",
       "applicant_id                                                      2348\n",
       "situation_date                                              24/06/2009\n",
       "type                                                            FILIAL\n",
       "name                                 LA HOTELS EMPREENDIMENTOS 1 LTDA.\n",
       "phone                                                   (61) 3381-6090\n",
       "situation                                                        ATIVA\n",
       "neighborhood                                                 ASA NORTE\n",
       "address                                          Q SHT/NORTE TRECHO 01\n",
       "number                                                             S/N\n",
       "zip_code                                                    70.800-200\n",
       "city                                                          BRASILIA\n",
       "state_y                                                             DF\n",
       "opening                                                     24/06/2009\n",
       "legal_entity                     206-2 - SOCIEDADE EMPRESARIA LIMITADA\n",
       "trade_name                                       GOLDEN TULIP BRASILIA\n",
       "cnpj                                                    09109567001732\n",
       "last_updated                                  2016-07-07T04:46:41.820Z\n",
       "status                                                              OK\n",
       "additional_address_details                             CONJ 1B BLOCO A\n",
       "email                                        cfcontabil@cfcontabil.com\n",
       "responsible_federative_entity                                      NaN\n",
       "situation_reason                                                   NaN\n",
       "special_situation                                                  NaN\n",
       "special_situation_date                                             NaN\n",
       "message                                                            NaN\n",
       "main_activity_code                                          55.10-8-02\n",
       "main_activity                                             Apart-hotéis\n",
       "latitude                                                      -15.7663\n",
       "longitude                                                     -47.8829\n",
       "coordinates                                 (-15.7662824, -47.8829416)\n",
       "Name: 77142, dtype: object"
      ]
     },
     "execution_count": 40,
     "metadata": {},
     "output_type": "execute_result"
    }
   ],
   "source": [
    "x = records.iloc[0]\n",
    "print(document_url(x))\n",
    "x"
   ]
  },
  {
   "cell_type": "code",
   "execution_count": 41,
   "metadata": {
    "collapsed": false
   },
   "outputs": [
    {
     "name": "stdout",
     "output_type": "stream",
     "text": [
      "http://www.camara.gov.br/cota-parlamentar/documentos/publ/2348/2015/5800014.pdf\n"
     ]
    },
    {
     "data": {
      "text/plain": [
       "document_id                                                         5800014\n",
       "congressperson_name                                              JOSÉ NUNES\n",
       "congressperson_id                                                    160619\n",
       "congressperson_document                                                 201\n",
       "term                                                                   2015\n",
       "state_x                                                                  BA\n",
       "party                                                                   PSD\n",
       "term_id                                                                  55\n",
       "subquota_number                                                          13\n",
       "subquota_description                                    Congressperson meal\n",
       "subquota_group_id                                                         0\n",
       "subquota_group_description                                              NaN\n",
       "supplier                                   PONTO CERTO COM. DE CEREAIS LTDA\n",
       "cnpj_cpf                                                     16346975000106\n",
       "document_number                                                      053650\n",
       "document_type                                                             0\n",
       "issue_date                                              2015-09-03 00:00:00\n",
       "document_value                                                        40.65\n",
       "remark_value                                                              0\n",
       "net_value                                                             40.65\n",
       "month                                                                     9\n",
       "year                                                                   2015\n",
       "installment                                                               0\n",
       "passenger                                                               NaN\n",
       "leg_of_the_trip                                                         NaN\n",
       "batch_number                                                        1228561\n",
       "reimbursement_number                                                   5169\n",
       "reimbursement_value                                                     NaN\n",
       "applicant_id                                                           2348\n",
       "situation_date                                                   03/11/2005\n",
       "type                                                                 MATRIZ\n",
       "name                             PONTO CERTO COMERCIO DE CEREAIS LTDA - EPP\n",
       "phone                                       (71) 3312-4668 / (71) 3491-7713\n",
       "situation                                                             ATIVA\n",
       "neighborhood                                                  SAO CRISTOVAO\n",
       "address                                                    PC GAGO COUTINHO\n",
       "number                                                                   SN\n",
       "zip_code                                                         41.510-045\n",
       "city                                                               SALVADOR\n",
       "state_y                                                                  BA\n",
       "opening                                                          09/09/1988\n",
       "legal_entity                          206-2 - SOCIEDADE EMPRESARIA LIMITADA\n",
       "trade_name                                                      CARAMBOLA'S\n",
       "cnpj                                                         16346975000106\n",
       "last_updated                                       2016-07-15T15:36:57.239Z\n",
       "status                                                                   OK\n",
       "additional_address_details                 AEROP INTERN DE SSA UNIDADE 2013\n",
       "email                                             benita.maria@terra.com.br\n",
       "responsible_federative_entity                                           NaN\n",
       "situation_reason                                                        NaN\n",
       "special_situation                                                       NaN\n",
       "special_situation_date                                                  NaN\n",
       "message                                                                 NaN\n",
       "main_activity_code                                               56.11-2-01\n",
       "main_activity                                      Restaurantes e similares\n",
       "latitude                                                           -12.9108\n",
       "longitude                                                          -38.3484\n",
       "coordinates                                      (-12.9107628, -38.3483624)\n",
       "Name: 77146, dtype: object"
      ]
     },
     "execution_count": 41,
     "metadata": {},
     "output_type": "execute_result"
    }
   ],
   "source": [
    "x = records.iloc[1]\n",
    "print(document_url(x))\n",
    "x"
   ]
  },
  {
   "cell_type": "code",
   "execution_count": 42,
   "metadata": {
    "collapsed": false
   },
   "outputs": [
    {
     "data": {
      "text/plain": [
       "2"
      ]
     },
     "execution_count": 42,
     "metadata": {},
     "output_type": "execute_result"
    }
   ],
   "source": [
    "predicate = (data_with_geo['congressperson_name'] == 'JOSÉ NUNES') & \\\n",
    "    (data_with_geo['issue_date'] == '2015-10-13')\n",
    "records = data_with_geo[predicate]\n",
    "len(records)"
   ]
  },
  {
   "cell_type": "code",
   "execution_count": 43,
   "metadata": {
    "collapsed": false
   },
   "outputs": [
    {
     "name": "stdout",
     "output_type": "stream",
     "text": [
      "http://www.camara.gov.br/cota-parlamentar/documentos/publ/2348/2015/5825131.pdf\n"
     ]
    },
    {
     "data": {
      "text/plain": [
       "document_id                                                         5825131\n",
       "congressperson_name                                              JOSÉ NUNES\n",
       "congressperson_id                                                    160619\n",
       "congressperson_document                                                 201\n",
       "term                                                                   2015\n",
       "state_x                                                                  BA\n",
       "party                                                                   PSD\n",
       "term_id                                                                  55\n",
       "subquota_number                                                          13\n",
       "subquota_description                                    Congressperson meal\n",
       "subquota_group_id                                                         0\n",
       "subquota_group_description                                              NaN\n",
       "supplier                                   PONTO CERTO COM. DE CEREAIS LTDA\n",
       "cnpj_cpf                                                     16346975000106\n",
       "document_number                                                      142605\n",
       "document_type                                                             0\n",
       "issue_date                                              2015-10-13 00:00:00\n",
       "document_value                                                        65.66\n",
       "remark_value                                                              0\n",
       "net_value                                                             65.66\n",
       "month                                                                    10\n",
       "year                                                                   2015\n",
       "installment                                                               0\n",
       "passenger                                                               NaN\n",
       "leg_of_the_trip                                                         NaN\n",
       "batch_number                                                        1236283\n",
       "reimbursement_number                                                   5202\n",
       "reimbursement_value                                                     NaN\n",
       "applicant_id                                                           2348\n",
       "situation_date                                                   03/11/2005\n",
       "type                                                                 MATRIZ\n",
       "name                             PONTO CERTO COMERCIO DE CEREAIS LTDA - EPP\n",
       "phone                                       (71) 3312-4668 / (71) 3491-7713\n",
       "situation                                                             ATIVA\n",
       "neighborhood                                                  SAO CRISTOVAO\n",
       "address                                                    PC GAGO COUTINHO\n",
       "number                                                                   SN\n",
       "zip_code                                                         41.510-045\n",
       "city                                                               SALVADOR\n",
       "state_y                                                                  BA\n",
       "opening                                                          09/09/1988\n",
       "legal_entity                          206-2 - SOCIEDADE EMPRESARIA LIMITADA\n",
       "trade_name                                                      CARAMBOLA'S\n",
       "cnpj                                                         16346975000106\n",
       "last_updated                                       2016-07-15T15:36:57.239Z\n",
       "status                                                                   OK\n",
       "additional_address_details                 AEROP INTERN DE SSA UNIDADE 2013\n",
       "email                                             benita.maria@terra.com.br\n",
       "responsible_federative_entity                                           NaN\n",
       "situation_reason                                                        NaN\n",
       "special_situation                                                       NaN\n",
       "special_situation_date                                                  NaN\n",
       "message                                                                 NaN\n",
       "main_activity_code                                               56.11-2-01\n",
       "main_activity                                      Restaurantes e similares\n",
       "latitude                                                           -12.9108\n",
       "longitude                                                          -38.3484\n",
       "coordinates                                      (-12.9107628, -38.3483624)\n",
       "Name: 80685, dtype: object"
      ]
     },
     "execution_count": 43,
     "metadata": {},
     "output_type": "execute_result"
    }
   ],
   "source": [
    "x = records.iloc[0]\n",
    "print(document_url(x))\n",
    "x"
   ]
  },
  {
   "cell_type": "code",
   "execution_count": 44,
   "metadata": {
    "collapsed": false
   },
   "outputs": [
    {
     "name": "stdout",
     "output_type": "stream",
     "text": [
      "http://www.camara.gov.br/cota-parlamentar/documentos/publ/2348/2015/5864382.pdf\n"
     ]
    },
    {
     "data": {
      "text/plain": [
       "document_id                                                    5864382\n",
       "congressperson_name                                         JOSÉ NUNES\n",
       "congressperson_id                                               160619\n",
       "congressperson_document                                            201\n",
       "term                                                              2015\n",
       "state_x                                                             BA\n",
       "party                                                              PSD\n",
       "term_id                                                             55\n",
       "subquota_number                                                     13\n",
       "subquota_description                               Congressperson meal\n",
       "subquota_group_id                                                    0\n",
       "subquota_group_description                                         NaN\n",
       "supplier                                GOLDEN TULIP BRASILIA ALVORADA\n",
       "cnpj_cpf                                                09109567001732\n",
       "document_number                                                 246264\n",
       "document_type                                                        0\n",
       "issue_date                                         2015-10-13 00:00:00\n",
       "document_value                                                  897.06\n",
       "remark_value                                                    126.87\n",
       "net_value                                                       770.19\n",
       "month                                                               10\n",
       "year                                                              2015\n",
       "installment                                                          0\n",
       "passenger                                                          NaN\n",
       "leg_of_the_trip                                                    NaN\n",
       "batch_number                                                   1248321\n",
       "reimbursement_number                                              5251\n",
       "reimbursement_value                                                NaN\n",
       "applicant_id                                                      2348\n",
       "situation_date                                              24/06/2009\n",
       "type                                                            FILIAL\n",
       "name                                 LA HOTELS EMPREENDIMENTOS 1 LTDA.\n",
       "phone                                                   (61) 3381-6090\n",
       "situation                                                        ATIVA\n",
       "neighborhood                                                 ASA NORTE\n",
       "address                                          Q SHT/NORTE TRECHO 01\n",
       "number                                                             S/N\n",
       "zip_code                                                    70.800-200\n",
       "city                                                          BRASILIA\n",
       "state_y                                                             DF\n",
       "opening                                                     24/06/2009\n",
       "legal_entity                     206-2 - SOCIEDADE EMPRESARIA LIMITADA\n",
       "trade_name                                       GOLDEN TULIP BRASILIA\n",
       "cnpj                                                    09109567001732\n",
       "last_updated                                  2016-07-07T04:46:41.820Z\n",
       "status                                                              OK\n",
       "additional_address_details                             CONJ 1B BLOCO A\n",
       "email                                        cfcontabil@cfcontabil.com\n",
       "responsible_federative_entity                                      NaN\n",
       "situation_reason                                                   NaN\n",
       "special_situation                                                  NaN\n",
       "special_situation_date                                             NaN\n",
       "message                                                            NaN\n",
       "main_activity_code                                          55.10-8-02\n",
       "main_activity                                             Apart-hotéis\n",
       "latitude                                                      -15.7663\n",
       "longitude                                                     -47.8829\n",
       "coordinates                                 (-15.7662824, -47.8829416)\n",
       "Name: 80687, dtype: object"
      ]
     },
     "execution_count": 44,
     "metadata": {},
     "output_type": "execute_result"
    }
   ],
   "source": [
    "x = records.iloc[1]\n",
    "print(document_url(x))\n",
    "x"
   ]
  },
  {
   "cell_type": "code",
   "execution_count": 45,
   "metadata": {
    "collapsed": false
   },
   "outputs": [
    {
     "data": {
      "text/html": [
       "<div>\n",
       "<table border=\"1\" class=\"dataframe\">\n",
       "  <thead>\n",
       "    <tr style=\"text-align: right;\">\n",
       "      <th></th>\n",
       "      <th>congressperson_name</th>\n",
       "      <th>issue_date</th>\n",
       "      <th>len</th>\n",
       "      <th>sum</th>\n",
       "      <th>nanmean</th>\n",
       "    </tr>\n",
       "  </thead>\n",
       "  <tbody>\n",
       "    <tr>\n",
       "      <th>12642</th>\n",
       "      <td>CELSO MALDANER</td>\n",
       "      <td>2011-09-05</td>\n",
       "      <td>13.0</td>\n",
       "      <td>750.28</td>\n",
       "      <td>57.713846</td>\n",
       "    </tr>\n",
       "  </tbody>\n",
       "</table>\n",
       "</div>"
      ],
      "text/plain": [
       "      congressperson_name issue_date   len     sum    nanmean\n",
       "12642      CELSO MALDANER 2011-09-05  13.0  750.28  57.713846"
      ]
     },
     "execution_count": 45,
     "metadata": {},
     "output_type": "execute_result"
    }
   ],
   "source": [
    "aggregation[aggregation['len'] > 12]"
   ]
  },
  {
   "cell_type": "code",
   "execution_count": 46,
   "metadata": {
    "collapsed": false
   },
   "outputs": [
    {
     "data": {
      "text/plain": [
       "13"
      ]
     },
     "execution_count": 46,
     "metadata": {},
     "output_type": "execute_result"
    }
   ],
   "source": [
    "predicate = (data_with_geo['congressperson_name'] == 'CELSO MALDANER') & \\\n",
    "    (data_with_geo['issue_date'] == '2011-09-05')\n",
    "records = data_with_geo[predicate]\n",
    "len(records)"
   ]
  },
  {
   "cell_type": "code",
   "execution_count": 47,
   "metadata": {
    "collapsed": false
   },
   "outputs": [
    {
     "data": {
      "text/plain": [
       "10384    69.00\n",
       "10385    70.00\n",
       "10387    60.00\n",
       "10388    58.00\n",
       "10390    65.00\n",
       "10392    23.00\n",
       "10394    61.00\n",
       "10395    40.00\n",
       "10397    63.00\n",
       "10400    68.00\n",
       "10413    87.78\n",
       "10415    22.50\n",
       "10421    63.00\n",
       "Name: net_value, dtype: float64"
      ]
     },
     "execution_count": 47,
     "metadata": {},
     "output_type": "execute_result"
    }
   ],
   "source": [
    "records['net_value']"
   ]
  },
  {
   "cell_type": "code",
   "execution_count": 48,
   "metadata": {
    "collapsed": false
   },
   "outputs": [
    {
     "name": "stdout",
     "output_type": "stream",
     "text": [
      "R$69 http://www.camara.gov.br/cota-parlamentar/documentos/publ/1798/2011/2156131.pdf\n",
      "R$70 http://www.camara.gov.br/cota-parlamentar/documentos/publ/1798/2011/2154558.pdf\n",
      "R$60 http://www.camara.gov.br/cota-parlamentar/documentos/publ/1798/2011/2171763.pdf\n",
      "R$58 http://www.camara.gov.br/cota-parlamentar/documentos/publ/1798/2011/2173914.pdf\n",
      "R$65 http://www.camara.gov.br/cota-parlamentar/documentos/publ/1798/2011/2162916.pdf\n",
      "R$23 http://www.camara.gov.br/cota-parlamentar/documentos/publ/1798/2011/2186747.pdf\n",
      "R$61 http://www.camara.gov.br/cota-parlamentar/documentos/publ/1798/2011/2169264.pdf\n",
      "R$40 http://www.camara.gov.br/cota-parlamentar/documentos/publ/1798/2011/2177925.pdf\n",
      "R$63 http://www.camara.gov.br/cota-parlamentar/documentos/publ/1798/2011/2166537.pdf\n",
      "R$68 http://www.camara.gov.br/cota-parlamentar/documentos/publ/1798/2011/2159555.pdf\n",
      "R$87 http://www.camara.gov.br/cota-parlamentar/documentos/publ/1798/2011/2153141.pdf\n",
      "R$22 http://www.camara.gov.br/cota-parlamentar/documentos/publ/1798/2011/2153924.pdf\n",
      "R$63 http://www.camara.gov.br/cota-parlamentar/documentos/publ/1798/2011/2168614.pdf\n"
     ]
    },
    {
     "data": {
      "text/plain": [
       "10384    None\n",
       "10385    None\n",
       "10387    None\n",
       "10388    None\n",
       "10390    None\n",
       "10392    None\n",
       "10394    None\n",
       "10395    None\n",
       "10397    None\n",
       "10400    None\n",
       "10413    None\n",
       "10415    None\n",
       "10421    None\n",
       "dtype: object"
      ]
     },
     "execution_count": 48,
     "metadata": {},
     "output_type": "execute_result"
    }
   ],
   "source": [
    "records.apply(lambda row: print(('R$%i' % row['net_value']), document_url(row)),\n",
    "              axis=1)"
   ]
  },
  {
   "cell_type": "code",
   "execution_count": 49,
   "metadata": {
    "collapsed": false
   },
   "outputs": [
    {
     "data": {
      "text/plain": [
       "document_id                                                       2156131\n",
       "congressperson_name                                        CELSO MALDANER\n",
       "congressperson_id                                                  141405\n",
       "congressperson_document                                               472\n",
       "term                                                                 2015\n",
       "state_x                                                                SC\n",
       "party                                                                PMDB\n",
       "term_id                                                                55\n",
       "subquota_number                                                        13\n",
       "subquota_description                                  Congressperson meal\n",
       "subquota_group_id                                                       0\n",
       "subquota_group_description                                            NaN\n",
       "supplier                                    NATURETTO RESTAURANTE NATURAL\n",
       "cnpj_cpf                                                   00984060000277\n",
       "document_number                                                    003024\n",
       "document_type                                                           0\n",
       "issue_date                                            2011-09-05 00:00:00\n",
       "document_value                                                         69\n",
       "remark_value                                                            0\n",
       "net_value                                                              69\n",
       "month                                                                   9\n",
       "year                                                                 2011\n",
       "installment                                                             0\n",
       "passenger                                                             NaN\n",
       "leg_of_the_trip                                                       NaN\n",
       "batch_number                                                       563306\n",
       "reimbursement_number                                                 3745\n",
       "reimbursement_value                                                   NaN\n",
       "applicant_id                                                         1798\n",
       "situation_date                                                 09/11/2004\n",
       "type                                                               FILIAL\n",
       "name                             NATURETTO RESTAURANTE NATURAL LTDA - EPP\n",
       "phone                                                      (61) 3345-7898\n",
       "situation                                                           ATIVA\n",
       "neighborhood                                                      ASA SUL\n",
       "address                            Q SAFS QD 03, BL A, ANEXO II, III E IV\n",
       "number                                                                 SN\n",
       "zip_code                                                       70.160-900\n",
       "city                                                             BRASILIA\n",
       "state_y                                                                DF\n",
       "opening                                                        09/11/2004\n",
       "legal_entity                        206-2 - SOCIEDADE EMPRESARIA LIMITADA\n",
       "trade_name                                  NATURETTO RESTAURANTE NATURAL\n",
       "cnpj                                                       00984060000277\n",
       "last_updated                                     2016-08-20T02:57:29.825Z\n",
       "status                                                                 OK\n",
       "additional_address_details                                 TERREO SUBSOLO\n",
       "email                                                                 NaN\n",
       "responsible_federative_entity                                         NaN\n",
       "situation_reason                                                      NaN\n",
       "special_situation                                                     NaN\n",
       "special_situation_date                                                NaN\n",
       "message                                                               NaN\n",
       "main_activity_code                                             56.11-2-01\n",
       "main_activity                                    Restaurantes e similares\n",
       "latitude                                                         -15.8045\n",
       "longitude                                                        -47.8949\n",
       "coordinates                                    (-15.8044535, -47.8949176)\n",
       "Name: 10384, dtype: object"
      ]
     },
     "execution_count": 49,
     "metadata": {},
     "output_type": "execute_result"
    }
   ],
   "source": [
    "records.iloc[0]"
   ]
  },
  {
   "cell_type": "code",
   "execution_count": 50,
   "metadata": {
    "collapsed": false
   },
   "outputs": [
    {
     "data": {
      "text/plain": [
       "array(['2156131', '2154558', '2171763', '2173914', '2162916', '2186747',\n",
       "       '2169264', '2177925', '2166537', '2159555', '2153141', '2153924',\n",
       "       '2168614'], dtype=object)"
      ]
     },
     "execution_count": 50,
     "metadata": {},
     "output_type": "execute_result"
    }
   ],
   "source": [
    "records['document_id'].values"
   ]
  },
  {
   "cell_type": "code",
   "execution_count": 56,
   "metadata": {
    "collapsed": false
   },
   "outputs": [
    {
     "data": {
      "text/plain": [
       "array(['JOSÉ ROCHA', 'VANDERLEI MACRIS', 'VINICIUS CARVALHO',\n",
       "       'PEPE VARGAS', 'SANDES JÚNIOR', 'FELIPE MAIA', 'MARIA HELENA',\n",
       "       'LUIS CARLOS HEINZE', 'CELSO MALDANER', 'ELCIONE BARBALHO',\n",
       "       'SIMÃO SESSIM', 'RENATO MOLLING', 'INDIO DA COSTA',\n",
       "       'EDUARDO BARBOSA', 'BETO MANSUR', 'POMPEO DE MATTOS',\n",
       "       'VALDIR COLATTO', 'TAKAYAMA', 'RODRIGO DE CASTRO',\n",
       "       'ANTONIO BULHÕES', 'JOÃO CARLOS BACELAR', 'HENRIQUE FONTANA',\n",
       "       'JOSÉ CARLOS ARAÚJO', 'AELTON FREITAS', 'EDINHO BEZ',\n",
       "       'ROBERTO BALESTRA', 'CARLOS EDUARDO CADOCA', 'LINCOLN PORTELA',\n",
       "       'NELSON PELLEGRINO', 'MAURO MARIANI', 'MANOEL JUNIOR',\n",
       "       'CELSO RUSSOMANNO', 'OTAVIO LEITE', 'ADEMIR CAMILO', 'MAIA FILHO',\n",
       "       'MARCOS MONTES', 'VALTENIR PEREIRA', 'ROBERTO BRITTO',\n",
       "       'JORGE TADEU MUDALEN', 'LEONARDO QUINTÃO', 'EFRAIM FILHO',\n",
       "       'ARLINDO CHINAGLIA', 'ALICE PORTUGAL', 'ROBERTO ALVES',\n",
       "       'MÁRCIO MARINHO', 'JOÃO CAMPOS', 'NELSON MEURER', 'JOSÉ MENTOR',\n",
       "       'VICENTINHO', 'CARLOS BEZERRA', 'GONZAGA PATRIOTA',\n",
       "       'DARCÍSIO PERONDI', 'SÉRGIO BRITO', 'DUARTE NOGUEIRA',\n",
       "       'GERALDO RESENDE', 'GORETE PEREIRA', 'DILCEU SPERAFICO',\n",
       "       'JÚLIO DELGADO', 'AFONSO HAMM', 'WOLNEY QUEIROZ', 'OSMAR SERRAGLIO',\n",
       "       'EDINHO ARAÚJO', 'RICARDO IZAR', 'JHONATAN DE JESUS',\n",
       "       'LUCIANA SANTOS', 'LÁZARO BOTELHO', 'PROFESSORA MARCIVANIA',\n",
       "       'JOÃO ARRUDA', 'NELSON PADOVANI', 'ASSIS CARVALHO', 'PAULO FOLETTO',\n",
       "       'EDMAR ARRUDA', 'PR. MARCO FELICIANO', 'TIRIRICA', 'ALBERTO FILHO',\n",
       "       'RONALDO BENEDET', 'DIEGO ANDRADE', 'SANDRO ALEX', 'JAIR BOLSONARO',\n",
       "       'FÉLIX MENDONÇA JÚNIOR', 'RUBENS BUENO', 'WASHINGTON REIS',\n",
       "       'ZÉ SILVA', 'FRANCISCO FLORIANO', 'PASTOR EURICO', 'MAURO LOPES',\n",
       "       'PROFESSORA DORINHA SEABRA REZENDE', 'JORGINHO MELLO', 'KEIKO OTA',\n",
       "       'LAERCIO OLIVEIRA', 'JANDIRA FEGHALI', 'ERIVELTON SANTANA',\n",
       "       'NILTON CAPIXABA', 'HUGO MOTTA', 'JORGE CÔRTE REAL', 'MILTON MONTI',\n",
       "       'DOMINGOS SÁVIO', 'WALNEY ROCHA', 'ALCEU MOREIRA', 'CÉSAR HALUM',\n",
       "       'DIMAS FABIANO', 'JERÔNIMO GOERGEN', 'ANTONIO IMBASSAHY',\n",
       "       'ARNALDO JORDY', 'IRACEMA PORTELLA', 'MARCON',\n",
       "       'ROGÉRIO PENINHA MENDONÇA', 'LUCIO VIEIRA LIMA', 'DOMINGOS NETO',\n",
       "       'ANDERSON FERREIRA', 'RENZO BRAZ', 'EDIO LOPES', 'PEDRO PAULO',\n",
       "       'MANDETTA', 'IRAJÁ ABREU', 'MISSIONÁRIO JOSÉ OLIMPIO',\n",
       "       'VICENTE CANDIDO', 'RICARDO TRIPOLI', 'ELI CORRÊA FILHO',\n",
       "       'JAIME MARTINS', 'JOSE STÉDILE', 'LUIZ NISHIMORI', 'PAULO FREIRE',\n",
       "       'PAULO MAGALHÃES', 'VINICIUS GURGEL', 'ZECA DIRCEU',\n",
       "       'BENJAMIN MARANHÃO', 'WILSON FILHO', 'ROBERTO FREIRE',\n",
       "       'VANDER LOUBET', 'EROS BIONDINI', 'BOHN GASS', 'FÁBIO RAMALHO',\n",
       "       'ANDRÉ FIGUEIREDO', 'FLÁVIA MORAIS', 'RONALDO FONSECA',\n",
       "       'JOSÉ NUNES', 'NELSON MARCHEZAN JUNIOR', 'GIOVANI CHERINI',\n",
       "       'MARCELO AGUIAR', 'JUTAHY JUNIOR', 'PEDRO UCZAI', 'GUILHERME MUSSI',\n",
       "       \"CHICO D'ANGELO\", 'PAULO PIMENTA', 'SÁGUAS MORAES', 'RODRIGO MAIA',\n",
       "       'JEAN WYLLYS', 'JOSÉ PRIANTE', 'AUREO', 'GABRIEL GUIMARÃES',\n",
       "       'PAUDERNEY AVELINO', 'ALEXANDRE LEITE', 'FERNANDO FRANCISCHINI',\n",
       "       'TONINHO PINHEIRO', 'ALEX CANZIANI', 'DELEGADO WALDIR',\n",
       "       'CARMEN ZANOTTO', 'JOSUÉ BENGTSON', 'ARTHUR LIRA',\n",
       "       'ARNALDO FARIA DE SÁ', 'ONYX LORENZONI', 'ROBERTO DE LUCENA',\n",
       "       'AGUINALDO RIBEIRO', 'DR. JORGE SILVA', 'GENECIAS NORONHA',\n",
       "       'ESPERIDIÃO AMIN', 'SARAIVA FELIPE', 'STEFANO AGUIAR',\n",
       "       'ARTHUR OLIVEIRA MAIA', 'FLAVIANO MELO', 'FERNANDO JORDÃO',\n",
       "       'GEORGE HILTON', 'LEOPOLDO MEYER', 'JEFFERSON CAMPOS',\n",
       "       'ERIKA KOKAY', 'MARA GABRILLI', 'DELEY', 'GLAUBER BRAGA',\n",
       "       'CHICO ALENCAR', 'ARNON BEZERRA', 'EDUARDO DA FONTE',\n",
       "       'DANRLEI DE DEUS HINTERHOLZ', 'DÉCIO LIMA', 'DANILO FORTE',\n",
       "       'HUGO LEAL', 'MARINHA RAUPP', 'NELSON MARQUEZELLI',\n",
       "       'BONIFÁCIO DE ANDRADA', 'NILSON LEITÃO', 'MAGDA MOFATTO',\n",
       "       'CLEBER VERDE', 'MARCO MAIA', 'GIVALDO CARIMBÃO',\n",
       "       'HERMES PARCIANELLO', 'PAES LANDIM', 'DAMIÃO FELICIANO',\n",
       "       'PAULO FEIJÓ', 'CLAUDIO CAJADO', 'VALMIR ASSUNÇÃO',\n",
       "       'SEVERINO NINHO', 'MARCOS ROGÉRIO', 'MARCUS PESTANA',\n",
       "       'DANIEL ALMEIDA', 'SÉRGIO MORAES', 'JANETE CAPIBERIBE', 'JÔ MORAES',\n",
       "       'MARCO TEBALDI', 'LUIZ SÉRGIO', 'MARCELO CASTRO', 'AFONSO FLORENCE',\n",
       "       'MARCELO MATOS', 'JOSÉ GUIMARÃES', 'LELO COIMBRA', 'DANILO CABRAL',\n",
       "       'LUIZA ERUNDINA', 'ASSIS DO COUTO', 'CARLOS ZARATTINI',\n",
       "       'JOVAIR ARANTES', 'AUGUSTO CARVALHO', 'THIAGO PEIXOTO',\n",
       "       'JOSÉ AIRTON CIRILO', 'PAULO MALUF', 'FABIO REIS', 'PAULÃO',\n",
       "       'BRUNA FURLAN', 'ALFREDO KAEFER', 'CELSO JACOB', 'WALDENOR PEREIRA',\n",
       "       'MARGARIDA SALOMÃO', 'PEDRO CHAVES', 'MÁRIO HERINGER',\n",
       "       'WEVERTON ROCHA', 'NILSON PINTO', 'WELLINGTON ROBERTO',\n",
       "       'LUIZ CARLOS HAULY', 'PAULO TEIXEIRA', 'ANDRÉ DE PAULA',\n",
       "       'BILAC PINTO', 'PAULO PEREIRA DA SILVA', 'JOÃO RODRIGUES',\n",
       "       'SILVIO TORRES', 'LUIS TIBÉ', 'MARIA DO ROSÁRIO',\n",
       "       'SUBTENENTE GONZAGA', 'CARLOS MELLES', 'LUIZ FERNANDO FARIA',\n",
       "       'AFONSO MOTTA', 'DR. SINVAL MALHEIROS', 'MAX FILHO',\n",
       "       'JOÃO FERNANDO COUTINHO', 'EZEQUIEL FONSECA', 'EZEQUIEL TEIXEIRA',\n",
       "       'ZÉ CARLOS', 'JONY MARCOS', 'ADAIL CARNEIRO', 'DIEGO GARCIA',\n",
       "       'ALEX MANENTE', 'SÉRGIO REIS', 'KAIO MANIÇOBA', 'RÔMULO GOUVEIA',\n",
       "       'GEOVANIA DE SÁ', 'TENENTE LÚCIO', 'JOSÉ CARLOS ALELUIA',\n",
       "       'MARCELO ÁLVARO ANTÔNIO', 'JARBAS VASCONCELOS', 'ALAN RICK',\n",
       "       'TONINHO WANDSCHEER', 'VITOR LIPPI', 'BRUNNY', 'GOULART',\n",
       "       'ANDRES SANCHEZ', 'SÓSTENES CAVALCANTE', 'MOSES RODRIGUES',\n",
       "       'DANIEL COELHO', 'CACÁ LEÃO', 'MARINALDO ROSENDO', 'MARCOS ABRÃO',\n",
       "       'EDUARDO BOLSONARO', 'ALIEL MACHADO', 'BRUNO COVAS',\n",
       "       'ELMAR NASCIMENTO', 'EDUARDO CURY', 'JÚLIA MARINHO',\n",
       "       'JUNIOR MARRECA', 'LUCIANO DUCCI', 'CARLOS ANDRADE', 'HÉLIO LEITE',\n",
       "       'CAIO NARCIO', 'ROBERTO SALES', 'CLARISSA GAROTINHO',\n",
       "       'LEÔNIDAS CRISTINO', 'RONALDO LESSA', 'FRANCISCO CHAPADINHA',\n",
       "       'CHRISTIANE DE SOUZA YARED', 'LUCIO MOSQUINI', 'EVANDRO GUSSI',\n",
       "       'DELEGADO EDSON MOREIRA', 'ADALBERTO CAVALCANTI', 'HISSA ABRAHÃO',\n",
       "       'LUIZ LAURO FILHO', 'LEO DE BRITO', 'ZECA CAVALCANTI', 'ROCHA',\n",
       "       'JOÃO DERLY', 'PAULO AZI', 'VICTOR MENDES', 'MAJOR OLIMPIO',\n",
       "       'TADEU ALENCAR', 'FÁBIO MITIDIERI', 'ALEXANDRE BALDY', 'ENIO VERRI',\n",
       "       'JUSCELINO FILHO', 'CARLOS GOMES', 'WALTER ALVES',\n",
       "       'RONALDO MARTINS', 'ZECA DO PT', 'ALEXANDRE SERFIOTIS',\n",
       "       'ADELMO CARNEIRO LEÃO', 'HEITOR SCHUCH', 'LAUDIVIO CARVALHO',\n",
       "       'MARCELO ARO', 'LEANDRE', 'CELSO PANSERA', 'MOEMA GRAMACHO',\n",
       "       'ROSANGELA GOMES', 'HERCULANO PASSOS', 'LUIZ CLÁUDIO',\n",
       "       'DÂMINA PEREIRA', 'JORGE SOLLA', 'FAUSTO PINATO', 'MIGUEL LOMBARDI',\n",
       "       'BENITO GAMA', 'MARCOS SOARES', 'JOÃO CASTELO', 'LOBBE NETO',\n",
       "       'ANA PERUGINI', 'ANDRÉ ABDON', 'COVATTI FILHO',\n",
       "       'GILBERTO NASCIMENTO', 'BALEIA ROSSI', 'NEWTON CARDOSO JR',\n",
       "       'GIUSEPPE VECCI', 'HIRAN GONÇALVES', 'MARCUS VICENTE',\n",
       "       'DELEGADO ÉDER MAURO', 'EVAIR VIEIRA DE MELO', 'TIA ERON',\n",
       "       'JÉSSICA SALES', 'VALMIR PRASCIDELLI', 'LAERTE BESSA',\n",
       "       'ALEXANDRE VALLE', 'BACELAR', 'ADILTON SACHETTI', 'LUIZIANNE LINS',\n",
       "       'ROGÉRIO ROSSO', 'RUBENS PEREIRA JÚNIOR', 'ANTÔNIO JÁCOME',\n",
       "       'RENATA ABREU', 'ALUISIO MENDES', 'EDMILSON RODRIGUES',\n",
       "       'RAQUEL MUNIZ', 'VICENTINHO JÚNIOR', 'HILDO ROCHA', 'BETINHO GOMES',\n",
       "       'ODELMO LEÃO', 'FÁBIO SOUSA', 'CAPITÃO AUGUSTO', 'CÉSAR MESSIAS',\n",
       "       'TEREZA CRISTINA', 'CABO SABINO', 'SIMONE MORGADO', 'NILTO TATTO',\n",
       "       'ODORICO MONTEIRO', 'RODRIGO PACHECO', 'MARCELO BELINATI',\n",
       "       'MARIANA CARVALHO', 'BETO ROSADO', 'ELIZIANE GAMA', 'CABO DACIOLO',\n",
       "       'MARQUINHO MENDES', 'CÉLIO SILVEIRA', 'CRISTIANE BRASIL',\n",
       "       'JOÃO DANIEL', 'FLAVINHO', 'MAURO PEREIRA', 'FABIANO HORTA',\n",
       "       'MISAEL VARELLA', 'FERNANDO TORRES', 'JOÃO MARCELO SOUZA',\n",
       "       'ANGELIM', 'LUIZ CARLOS BUSATO', 'ROGÉRIO MARINHO', 'PEDRO VILELA',\n",
       "       'FRANKLIN LIMA', 'MÁRIO NEGROMONTE JR.', 'EVANDRO ROMAN',\n",
       "       'MARCOS REATEGUI', 'ANDRE MOURA', 'ULDURICO JUNIOR',\n",
       "       'RONALDO CARLETTO', 'CONCEIÇÃO SAMPAIO', 'JOSI NUNES', 'DAGOBERTO',\n",
       "       'LUCAS VERGILIO', 'MIGUEL HADDAD', 'CARLOS MARUN', 'MORONI TORGAN',\n",
       "       'BETO SALAME', 'SHÉRIDAN', 'JOÃO PAULO PAPA', 'EXPEDITO NETTO',\n",
       "       'RÔNEY NEMER', 'ALBERTO FRAGA', 'ZENAIDE MAIA', 'WADIH DAMOUS',\n",
       "       'PEDRO FERNANDES', 'SILAS FREIRE', 'ABEL MESQUITA JR.',\n",
       "       'LAURA CARNEIRO', 'ANGELA ALBINO', 'ARTHUR VIRGÍLIO BISNETO',\n",
       "       'HERÁCLITO FORTES', 'GIVALDO VIEIRA', 'TAMPINHA', 'JOZI ARAÚJO',\n",
       "       'PAULO MARTINS', 'MARCIO ALVINO', 'PASTOR LUCIANO BRAGA',\n",
       "       'PATRUS ANANIAS', 'CAJAR NARDES', 'JONES MARTINS', 'VAL AMÉLIO'], dtype=object)"
      ]
     },
     "execution_count": 56,
     "metadata": {},
     "output_type": "execute_result"
    }
   ],
   "source": [
    "data['congressperson_name'].unique()"
   ]
  },
  {
   "cell_type": "code",
   "execution_count": null,
   "metadata": {
    "collapsed": true
   },
   "outputs": [],
   "source": []
  }
 ],
 "metadata": {
  "kernelspec": {
   "display_name": "Python 3",
   "language": "python3",
   "name": "python3"
  },
  "language_info": {
   "codemirror_mode": {
    "name": "ipython",
    "version": 3
   },
   "file_extension": ".py",
   "mimetype": "text/x-python",
   "name": "python",
   "nbconvert_exporter": "python",
   "pygments_lexer": "ipython3",
   "version": "3.5.2"
  }
 },
 "nbformat": 4,
 "nbformat_minor": 0
}
